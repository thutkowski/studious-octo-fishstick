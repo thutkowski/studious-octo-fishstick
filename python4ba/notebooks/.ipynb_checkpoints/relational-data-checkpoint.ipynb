{
 "cells": [
  {
   "cell_type": "markdown",
   "metadata": {},
   "source": [
    "# Relational Data\n",
    "\n",
    "In data analysis, you often need to combine multiple data sets to answer the questions that you are interested in.\n",
    "\n",
    "Collectively, multiple related sets (tables) of data are called relational data. In relational (SQL) databases (DBs), each table is called a relation. Two tables (relations) may have a relationship between each other via a PK (primary key) and a FK (foreign key). It is also not uncommon to have more than two tables related to each other. \n",
    "\n",
    "To work with relational data, we typically need to from three families of operations: \n",
    "- **Mutating joins**, which add new variables to one data frame from matching observations in another.\n",
    "- **Filtering joins**, which filter observations from one data frame based on whether or not they match an observation in the other table.\n",
    "- **Set operations**, which treat observations as if they were set elements.\n",
    "\n",
    "If you have learned relational databases and SQL (Structured Query Language), you should find many of these concepts and operations familiar. \n",
    "\n",
    "We will use the **nycflights13** package to learn about relational data. "
   ]
  },
  {
   "cell_type": "code",
   "execution_count": 2,
   "metadata": {},
   "outputs": [
    {
     "ename": "ModuleNotFoundError",
     "evalue": "No module named 'nycflights13'",
     "output_type": "error",
     "traceback": [
      "\u001b[1;31m---------------------------------------------------------------------------\u001b[0m",
      "\u001b[1;31mModuleNotFoundError\u001b[0m                       Traceback (most recent call last)",
      "Cell \u001b[1;32mIn[2], line 2\u001b[0m\n\u001b[0;32m      1\u001b[0m \u001b[38;5;28;01mimport\u001b[39;00m \u001b[38;5;21;01mpandas\u001b[39;00m \u001b[38;5;28;01mas\u001b[39;00m \u001b[38;5;21;01mpd\u001b[39;00m\n\u001b[1;32m----> 2\u001b[0m \u001b[38;5;28;01mimport\u001b[39;00m \u001b[38;5;21;01mnycflights13\u001b[39;00m\n\u001b[0;32m      3\u001b[0m \u001b[38;5;66;03m# Install the \"nycflights13\" package before you run the following code. \u001b[39;00m\n\u001b[0;32m      4\u001b[0m \u001b[38;5;28;01mfrom\u001b[39;00m \u001b[38;5;21;01mnycflights13\u001b[39;00m \u001b[38;5;28;01mimport\u001b[39;00m flights\n",
      "\u001b[1;31mModuleNotFoundError\u001b[0m: No module named 'nycflights13'"
     ]
    }
   ],
   "source": [
    "import pandas as pd\n",
    "import nycflights13\n",
    "# Install the \"nycflights13\" package before you run the following code. \n",
    "from nycflights13 import flights\n",
    "from nycflights13 import airlines\n",
    "from nycflights13 import airports\n",
    "from nycflights13 import planes\n",
    "from nycflights13 import weather"
   ]
  },
  {
   "cell_type": "code",
   "execution_count": null,
   "metadata": {},
   "outputs": [],
   "source": [
    "flights.head()"
   ]
  },
  {
   "cell_type": "code",
   "execution_count": null,
   "metadata": {},
   "outputs": [],
   "source": [
    "airlines.head()"
   ]
  },
  {
   "cell_type": "code",
   "execution_count": null,
   "metadata": {},
   "outputs": [],
   "source": [
    "airports.head()"
   ]
  },
  {
   "cell_type": "code",
   "execution_count": null,
   "metadata": {},
   "outputs": [],
   "source": [
    "planes.head()"
   ]
  },
  {
   "cell_type": "code",
   "execution_count": null,
   "metadata": {
    "scrolled": true
   },
   "outputs": [],
   "source": [
    "weather.head()"
   ]
  },
  {
   "cell_type": "markdown",
   "metadata": {},
   "source": [
    "The relationships between these tables are shown in the following diagram: "
   ]
  },
  {
   "cell_type": "code",
   "execution_count": null,
   "metadata": {},
   "outputs": [],
   "source": [
    "from IPython.display import Image\n",
    "Image('https://d33wubrfki0l68.cloudfront.net/245292d1ea724f6c3fd8a92063dcd7bfb9758d02/5751b/diagrams/relational-nycflights.png')"
   ]
  },
  {
   "cell_type": "markdown",
   "metadata": {},
   "source": [
    "For nycflights13:\n",
    "\n",
    "- ``flights`` connects to ``plane`` via a single variable, ``tailnum``.\n",
    "- ``flights`` connects to ``airlines`` through the ``carrier`` variable.\n",
    "- ``flights`` connects to ``airports`` in two ways: via the ``origin`` and ``dest`` variables.\n",
    "- ``flights`` connects to ``weather`` via origin (the location), and ``year``, ``month``, ``day`` and ``hour`` (the time)."
   ]
  },
  {
   "cell_type": "markdown",
   "metadata": {},
   "source": [
    "## Keys\n",
    "\n",
    "The variables used to connect each pair of tables are called **keys**. A key is a variable (or set of varialbes) that uniquely identifies an observation. \n",
    "\n",
    "For example, each plane is uniquely identified by its ``tailnum``. In other cases, multiple variables may be needed. For example, to identify an observation in weather you need five variables: ``year``, ``month``, ``day``, ``hour``, and ``origin``.\n",
    "\n",
    "There are two types of keys:\n",
    "- A primary key uniquely identifies an observation in its own table. For example, in the ``planes`` table, ``tailnum`` is a primary key because it uniquely identifies each plane in the ``planes`` table.\n",
    "- A foreign key uniquely identifies an observation in another table. For example, in the ``flights`` table, ``tailnum`` is a foreign key because it matches each flight to a unique plane.\n",
    "\n",
    "Once you've identified the primary keys in your tables, it is good practice to verify that they do indeed uniquely identify each observation. "
   ]
  },
  {
   "cell_type": "code",
   "execution_count": null,
   "metadata": {},
   "outputs": [],
   "source": [
    "# Count the number of rows in the table \"planes\"\n"
   ]
  },
  {
   "cell_type": "code",
   "execution_count": null,
   "metadata": {},
   "outputs": [],
   "source": [
    "# Count the number of unique values in column \"tailnum\"\n"
   ]
  },
  {
   "cell_type": "code",
   "execution_count": null,
   "metadata": {},
   "outputs": [],
   "source": [
    "# Count the occurrence of different values in column \"tailnum\"\n"
   ]
  },
  {
   "cell_type": "code",
   "execution_count": null,
   "metadata": {},
   "outputs": [],
   "source": [
    "# Try to determine the key for flights: ['year','month','day','carrier','flight']? \n"
   ]
  },
  {
   "cell_type": "code",
   "execution_count": null,
   "metadata": {},
   "outputs": [],
   "source": [
    "# Adding more variable(s) to make a key? \n"
   ]
  },
  {
   "cell_type": "markdown",
   "metadata": {},
   "source": [
    "Sometimes a table doesn’t have an explicit primary key: each row is an observation, but no combination of variables reliably identifies it. "
   ]
  },
  {
   "cell_type": "markdown",
   "metadata": {},
   "source": [
    "If a table lacks a primary key or a non-composite key, it’s sometimes useful to add one, e.g., its row number. That makes it easier to match observations if you’ve done some filtering and want to check back in with the original data. This is called a **surrogate key**."
   ]
  },
  {
   "cell_type": "code",
   "execution_count": null,
   "metadata": {},
   "outputs": [],
   "source": [
    "# Add a surrogate key to flights.\n",
    "flights['id'] = flights.index\n",
    "flights.head()"
   ]
  },
  {
   "cell_type": "markdown",
   "metadata": {},
   "source": [
    "## Standard Joins\n",
    "\n",
    "Join two data sets/tables by the PK-FK relationship. \n",
    "\n",
    "Create two datasets, ``adf`` and ``bdf``: "
   ]
  },
  {
   "cell_type": "code",
   "execution_count": null,
   "metadata": {},
   "outputs": [],
   "source": [
    "adf = pd.DataFrame(\n",
    "    [['A',1],\n",
    "     ['B',2],\n",
    "     ['C',3]],\n",
    "    columns=['x1', 'x2'])\n",
    "adf"
   ]
  },
  {
   "cell_type": "code",
   "execution_count": null,
   "metadata": {},
   "outputs": [],
   "source": [
    "bdf = pd.DataFrame(\n",
    "    [['A',True],\n",
    "     ['B',False],\n",
    "     ['D',True]],\n",
    "    columns=['x1', 'x3'])\n",
    "bdf"
   ]
  },
  {
   "cell_type": "markdown",
   "metadata": {},
   "source": [
    "### Inner Join\n",
    "\n",
    "The simplest type of join is the inner join. An inner join matches pairs of observations whenever their keys are equal: "
   ]
  },
  {
   "cell_type": "code",
   "execution_count": null,
   "metadata": {},
   "outputs": [],
   "source": [
    "pd.merge(adf, bdf, how='inner', on='x1')"
   ]
  },
  {
   "cell_type": "code",
   "execution_count": null,
   "metadata": {},
   "outputs": [],
   "source": [
    "# You can do this as well. \n",
    "adf.merge(bdf, how='inner', on='x1')"
   ]
  },
  {
   "cell_type": "markdown",
   "metadata": {},
   "source": [
    "### Outer Joins\n",
    "\n",
    "- A left join keeps all observations in adf.\n",
    "- A right join keeps all observations in bdf.\n",
    "- A full join keeps all observations in adf and bdf."
   ]
  },
  {
   "cell_type": "code",
   "execution_count": null,
   "metadata": {},
   "outputs": [],
   "source": [
    "# Left join\n",
    "pd.merge(adf, bdf, how='left', on='x1')"
   ]
  },
  {
   "cell_type": "code",
   "execution_count": null,
   "metadata": {},
   "outputs": [],
   "source": [
    "# Right join\n",
    "pd.merge(adf, bdf, how='right', on='x1')"
   ]
  },
  {
   "cell_type": "code",
   "execution_count": null,
   "metadata": {},
   "outputs": [],
   "source": [
    "# Full outer join\n",
    "pd.merge(adf, bdf, how='outer', on='x1')"
   ]
  },
  {
   "cell_type": "markdown",
   "metadata": {},
   "source": [
    "### Filter Joins\n",
    "\n"
   ]
  },
  {
   "cell_type": "code",
   "execution_count": null,
   "metadata": {},
   "outputs": [],
   "source": [
    "# All rows in adf that have a match in bdf\n",
    "adf[adf.x1.isin(bdf.x1)]"
   ]
  },
  {
   "cell_type": "code",
   "execution_count": null,
   "metadata": {},
   "outputs": [],
   "source": [
    "# All rows in adf that do not have a match in bdf\n",
    "adf[~adf.x1.isin(bdf.x1)]"
   ]
  },
  {
   "cell_type": "markdown",
   "metadata": {},
   "source": [
    "## Set-like Operations\n",
    "\n",
    "In Pandas, the `merge()` method can also be used for set-like operations, such as `union`, `intersection`, and `set-difference`. All these operations work with a complete row, comparing the values of every variable. \n",
    "\n",
    "Take these as examples: "
   ]
  },
  {
   "cell_type": "code",
   "execution_count": null,
   "metadata": {},
   "outputs": [],
   "source": [
    "xdf = pd.DataFrame(\n",
    "    [['A',1],\n",
    "     ['B',2],\n",
    "     ['C',3]],\n",
    "    columns=['x1', 'x2'])\n",
    "xdf"
   ]
  },
  {
   "cell_type": "code",
   "execution_count": null,
   "metadata": {},
   "outputs": [],
   "source": [
    "ydf = pd.DataFrame(\n",
    "    [['B',2],\n",
    "     ['C',3],\n",
    "     ['D',4]],\n",
    "    columns=['x1', 'x2'])\n",
    "ydf"
   ]
  },
  {
   "cell_type": "code",
   "execution_count": null,
   "metadata": {},
   "outputs": [],
   "source": [
    "# Union: Rows that appear in either or both xdf and ydf\n",
    "pd.merge(xdf, ydf, how='outer')"
   ]
  },
  {
   "cell_type": "code",
   "execution_count": null,
   "metadata": {},
   "outputs": [],
   "source": [
    "# Intersection: Rows that appear in both xdf and ydf\n",
    "pd.merge(xdf, ydf)"
   ]
  },
  {
   "cell_type": "code",
   "execution_count": null,
   "metadata": {},
   "outputs": [],
   "source": [
    "# Difference: Rows that appear in xdf but not in ydf\n",
    "pd.merge(xdf, ydf, how='outer', indicator=True).query('_merge == \"left_only\"').drop(columns=['_merge'])"
   ]
  },
  {
   "cell_type": "markdown",
   "metadata": {},
   "source": [
    "## Appending Rows or Columns to Dataframe\n",
    "\n",
    "When working with multiple dataframes, we often need to combine them by rows or by columns. This is when we need to use the `conact()` method."
   ]
  },
  {
   "cell_type": "code",
   "execution_count": null,
   "metadata": {},
   "outputs": [],
   "source": [
    "# xdf and ydf have the same variables (columns)\n",
    "# Append rows in ydf to xdf \n",
    "pd.concat([xdf, ydf])"
   ]
  },
  {
   "cell_type": "code",
   "execution_count": null,
   "metadata": {},
   "outputs": [],
   "source": [
    "# Create a new dataframe zdf\n",
    "zdf = pd.DataFrame(\n",
    "    [[True, 4],\n",
    "     [False, 5],\n",
    "     [False, 6]],\n",
    "    columns=['x3','x4'])\n",
    "zdf"
   ]
  },
  {
   "cell_type": "code",
   "execution_count": null,
   "metadata": {},
   "outputs": [],
   "source": [
    "# xdz and zdf contain different variables of the same data instances in the same order. \n",
    "# Append the colmuns of zdf to xdf\n",
    "pd.concat([xdf, zdf], axis=1)"
   ]
  },
  {
   "cell_type": "markdown",
   "metadata": {},
   "source": [
    "## Examples \n",
    "\n",
    "Let's use merge() on our flights data. For these examples, we’ll make it easier to see what’s going on in the examples by creating a narrower dataframes:"
   ]
  },
  {
   "cell_type": "code",
   "execution_count": null,
   "metadata": {},
   "outputs": [],
   "source": [
    "# Create a smaller dataframe\n",
    "flights2 = flights[['year','month', 'day', 'hour', 'origin', 'dest', 'tailnum', 'carrier']]\n",
    "flights2"
   ]
  },
  {
   "cell_type": "markdown",
   "metadata": {},
   "source": [
    "Imagine you want to add the full airline name to the ``flights2`` data. You can combine the ``airlines`` and ``flights2`` data frames with a left join: "
   ]
  },
  {
   "cell_type": "code",
   "execution_count": null,
   "metadata": {},
   "outputs": [],
   "source": [
    "pd.merge(flights2, airlines, how='left', on='carrier')"
   ]
  },
  {
   "cell_type": "code",
   "execution_count": null,
   "metadata": {},
   "outputs": [],
   "source": [
    "# This gives you the same results\n",
    "flights2.merge(airlines, how='left', on='carrier')"
   ]
  },
  {
   "cell_type": "markdown",
   "metadata": {},
   "source": [
    "Sometimes, we need to join on multiple columns. "
   ]
  },
  {
   "cell_type": "code",
   "execution_count": null,
   "metadata": {},
   "outputs": [],
   "source": [
    "# For each flight, show the weather of the day as well\n",
    "pd.merge(flights2, weather, how='left', on=[\"year\", \"month\", \"day\", \"hour\", \"origin\"])"
   ]
  },
  {
   "cell_type": "code",
   "execution_count": null,
   "metadata": {},
   "outputs": [],
   "source": [
    "# The default, on = None, uses all matching variables that appear in both tables, the so called 'natural join'. \n",
    "pd.merge(flights2, weather, how='left')"
   ]
  },
  {
   "cell_type": "markdown",
   "metadata": {},
   "source": [
    "Sometimes, the column names from the two dataframes may not match. Then, you need to explicitly specify the columns from each side. "
   ]
  },
  {
   "cell_type": "code",
   "execution_count": null,
   "metadata": {},
   "outputs": [],
   "source": [
    "# We want to combine the flights data with the airports data (key: 'faa'). \n",
    "# For origin: \n",
    "pd.merge(flights2, airports, how='left', left_on='origin', right_on='faa')"
   ]
  },
  {
   "cell_type": "code",
   "execution_count": null,
   "metadata": {},
   "outputs": [],
   "source": [
    "# For destination:\n",
    "pd.merge(flights2, airports, how='left', left_on='dest', right_on='faa')"
   ]
  },
  {
   "cell_type": "markdown",
   "metadata": {},
   "source": [
    "## Exercises"
   ]
  },
  {
   "cell_type": "code",
   "execution_count": null,
   "metadata": {},
   "outputs": [],
   "source": [
    "# Compute the average arrival delay by destination, \n",
    "# then join with the airports dataframe.\n"
   ]
  },
  {
   "cell_type": "code",
   "execution_count": null,
   "metadata": {},
   "outputs": [],
   "source": [
    "# Add the fullname of the origin and destination airports to flights.\n"
   ]
  },
  {
   "cell_type": "code",
   "execution_count": null,
   "metadata": {},
   "outputs": [],
   "source": [
    "# What weather conditions make it more likely to cause a depature delay?\n"
   ]
  }
 ],
 "metadata": {
  "kernelspec": {
   "display_name": "Python 3 (ipykernel)",
   "language": "python",
   "name": "python3"
  },
  "language_info": {
   "codemirror_mode": {
    "name": "ipython",
    "version": 3
   },
   "file_extension": ".py",
   "mimetype": "text/x-python",
   "name": "python",
   "nbconvert_exporter": "python",
   "pygments_lexer": "ipython3",
   "version": "3.11.5"
  }
 },
 "nbformat": 4,
 "nbformat_minor": 4
}
