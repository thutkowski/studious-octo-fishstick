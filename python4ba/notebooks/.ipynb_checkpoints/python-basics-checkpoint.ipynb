{
 "cells": [
  {
   "cell_type": "markdown",
   "metadata": {},
   "source": [
    "# Python\n",
    "\n",
    "In this course, we will use the Python programming language for all tutorials, exercises, and assignments. \n",
    "\n",
    "Python is a great general-purpose programming language. With the help of several popular libraries (e.g., numpy, scipy, pandas, matplotlib, sklearn), it provides a powerful environment for data analytics and computing.\n",
    "\n",
    "It'd be great if you have some experience with Python and numpy. If not, we will take this notebook as a crash course on basics for Python programming and its use for scientific computing. "
   ]
  },
  {
   "cell_type": "markdown",
   "metadata": {},
   "source": [
    "Many say that Python code is like pseudocode for it can express very powerful ideas in very few lines of code while being very readable. \n",
    "\n",
    "As an example, here is an implementation of the classic quicksort algorithm in Python:"
   ]
  },
  {
   "cell_type": "code",
   "execution_count": null,
   "metadata": {},
   "outputs": [],
   "source": [
    "# Define a fuction named \"quicksort\" that takes an array \"arr\" as input\n",
    "def quicksort(arr): \n",
    "    # check if the array is empty\n",
    "    if len(arr) <= 1:\n",
    "        return arr\n",
    "    # find the element in the middle of the of array\n",
    "    pivot = arr[len(arr) // 2]\n",
    "    # save all elements less than the pivot in an list called \"left\"\n",
    "    left = [x for x in arr if x < pivot]\n",
    "    # save all elements equal to the pivot in an list called \"middle\"\n",
    "    middle = [x for x in arr if x == pivot]\n",
    "    # save all elements greater than the pivot in an list called \"right\"\n",
    "    right = [x for x in arr if x > pivot]\n",
    "    # combine left + middle + right together\n",
    "    # notice that this quicksort function is recurisive: it calls itself.  \n",
    "    return quicksort(left) + middle + quicksort(right)\n",
    "\n",
    "'''\n",
    "You can call this function to sort a list of numbers. \n",
    "You can also use this function to sort a list of strings. \n",
    "\n",
    "BTW. Here I show another way of commenting multiple lines in Python code.\n",
    "'''\n",
    "print(quicksort([3,8,16,9,14,8,10,1,2,19]))\n",
    "print(quicksort(['Google','Apple','Microsoft','Amazon']))"
   ]
  },
  {
   "cell_type": "markdown",
   "metadata": {},
   "source": [
    "## Basic Data Types\n",
    "\n",
    "Like most languages, Python has a number of basic types including integers, floats, booleans, and strings. \n",
    "\n",
    "**Numbers**: Integers and floats work as you would expect from other languages:"
   ]
  },
  {
   "cell_type": "code",
   "execution_count": null,
   "metadata": {},
   "outputs": [],
   "source": [
    "x = 3\n",
    "print(type(x)) # Prints \"<class 'int'>\"\n",
    "print(x)       \n",
    "print(x + 1)   # Addition\n",
    "print(x - 1)   # Subtraction\n",
    "print(x * 2)   # Multiplication\n",
    "print(x ** 2)  # Exponentiation"
   ]
  },
  {
   "cell_type": "code",
   "execution_count": null,
   "metadata": {},
   "outputs": [],
   "source": [
    "x = x + 1  # Assign the value (x+1) to x\n",
    "x"
   ]
  },
  {
   "cell_type": "code",
   "execution_count": null,
   "metadata": {},
   "outputs": [],
   "source": [
    "x += 1     # This is simpler. \n",
    "x"
   ]
  },
  {
   "cell_type": "code",
   "execution_count": null,
   "metadata": {},
   "outputs": [],
   "source": [
    "x *= 2     # Assign the vlaue (x*2) to x\n",
    "x"
   ]
  },
  {
   "cell_type": "code",
   "execution_count": null,
   "metadata": {},
   "outputs": [],
   "source": [
    "y = 2.5\n",
    "print(type(y)) # Prints \"<class 'float'>\"\n",
    "print(y, y + 1, y * 2, y ** 2) # Prints multiple items together"
   ]
  },
  {
   "cell_type": "code",
   "execution_count": null,
   "metadata": {},
   "outputs": [],
   "source": [
    "# Exercise:\n",
    "# In a case, there are c chickens and r rabbits. How many heads and legs are there in total? \n",
    "c = input('How many chickens?')\n",
    "r = input('How many rabbits?')\n",
    "\n",
    "# head count: \n",
    "print(...)\n",
    "\n",
    "# leg count: \n",
    "print(...)"
   ]
  },
  {
   "cell_type": "markdown",
   "metadata": {},
   "source": [
    "**Booleans**: Python implements all of the usual operators for Boolean logic:"
   ]
  },
  {
   "cell_type": "code",
   "execution_count": null,
   "metadata": {
    "scrolled": true
   },
   "outputs": [],
   "source": [
    "t = True\n",
    "f = False\n",
    "print(type(t)) # Prints \"<class 'bool'>\"\n",
    "print(t and f) # Logical AND; prints \"False\"\n",
    "print(t or f)  # Logical OR; prints \"True\"\n",
    "print(not t)   # Logical NOT; prints \"False\""
   ]
  },
  {
   "cell_type": "code",
   "execution_count": null,
   "metadata": {},
   "outputs": [],
   "source": [
    "x = x - 9\n",
    "if x > 3: \n",
    "    print(str(x) + ' is greater than 3.')"
   ]
  },
  {
   "cell_type": "code",
   "execution_count": null,
   "metadata": {},
   "outputs": [],
   "source": [
    "# Exercise: \n",
    "# Are there more chickens than rabbits? Print out your conclusion. \n"
   ]
  },
  {
   "cell_type": "markdown",
   "metadata": {},
   "source": [
    "**Strings**: Python has great support for strings:"
   ]
  },
  {
   "cell_type": "code",
   "execution_count": null,
   "metadata": {},
   "outputs": [],
   "source": [
    "h = 'hello'    # String literals can use single quotes\n",
    "w = \"world\"    # or double quotes; it does not matter.\n",
    "print(h)       \n",
    "print(len(h))  # len() returns the string length\n",
    "hw = h + ' ' + w  # String concatenation\n",
    "print(hw)  \n",
    "hwy = '%s %s %d' % (h, w, 2021)  # string formatting\n",
    "print(hwy)  "
   ]
  },
  {
   "cell_type": "markdown",
   "metadata": {},
   "source": [
    "String objects have a bunch of useful methods:"
   ]
  },
  {
   "cell_type": "code",
   "execution_count": null,
   "metadata": {},
   "outputs": [],
   "source": [
    "s = \"hello\"\n",
    "print(s.capitalize())  # Capitalize a string; prints \"Hello\"\n",
    "print(s.upper())       # Convert a string to uppercase; prints \"HELLO\"\n",
    "print('Hello'.lower()) # Convert a string to lowercase; prints \"hello\"\n",
    "print(s.replace('l', '(ell)'))  # Replace all instances of one substring with another;\n",
    "print('  world '.strip())  # Strip leading and trailing whitespace; prints \"world\""
   ]
  },
  {
   "cell_type": "code",
   "execution_count": null,
   "metadata": {},
   "outputs": [],
   "source": [
    "# More functions/operaitons for strings\n",
    "chords = 'C G Am Em F C Dm G'\n",
    "print(chords.split()) # Split a string to a list of strings, default by ' '\n",
    "\n",
    "print(chords.replace(' ','-').split('-')) # Split a string by '-'"
   ]
  },
  {
   "cell_type": "markdown",
   "metadata": {},
   "source": [
    "How to extract a substring from a string? You can use the following templates: \n",
    "- ``string[start:end]``: Get all characters from index start to end-1\n",
    "- ``string[:end]``: Get all characters from the beginning of the string to end-1\n",
    "- ``string[start:]``: Get all characters from index start to the end of the string\n",
    "- ``string[start:end:step]``: Get all characters from start to end-1 discounting every step character"
   ]
  },
  {
   "cell_type": "code",
   "execution_count": null,
   "metadata": {},
   "outputs": [],
   "source": [
    "print(len(chords)) # The length of a string\n",
    "\n",
    "# substrings\n",
    "print(chords[0]) # The first character\n",
    "print(chords[0:3]) # The first three characters\n",
    "print(chords[:3]) # The first three characters\n",
    "print(chords[5:10]) # The characters from index 5 to 9\n",
    "print(chords[-4]) # The 4th characters from the end\n",
    "print(chords[-4:]) # The last four characters"
   ]
  },
  {
   "cell_type": "markdown",
   "metadata": {},
   "source": [
    "Count the occurrence of a character in a string. \n",
    "\n",
    "For example, count the occurrence of spaces (' ') in the string. "
   ]
  },
  {
   "cell_type": "code",
   "execution_count": null,
   "metadata": {},
   "outputs": [],
   "source": [
    "# Using a loop\n",
    "count = 0\n",
    "for i in range(len(chords)): \n",
    "    if chords[i] == ' ': \n",
    "        count += 1\n",
    "count"
   ]
  },
  {
   "cell_type": "code",
   "execution_count": null,
   "metadata": {},
   "outputs": [],
   "source": [
    "# You can also iterate all characters in string like this: \n",
    "count = 0\n",
    "for ch in chords: \n",
    "    if ch == ' ': \n",
    "        count += 1\n",
    "count"
   ]
  },
  {
   "cell_type": "code",
   "execution_count": null,
   "metadata": {},
   "outputs": [],
   "source": [
    "# Using count()\n",
    "chords.count(' ')"
   ]
  },
  {
   "cell_type": "code",
   "execution_count": null,
   "metadata": {},
   "outputs": [],
   "source": [
    "# Exercise: \n",
    "# Given the following string: \n",
    "line = \"My mama always said life was like a box of chocolates. You never know what you're gonna get.\"\n",
    "\n",
    "# Find the number of characters: \n",
    "print()\n",
    "\n",
    "# Print the substring \"box\" using indices\" \n",
    "print(line[...])\n",
    "\n",
    "# Split this string into a list of words, all in lower case, without puncutations.  \n",
    "# Note: split \"you're\" into \"you\" and \"re\"\n"
   ]
  },
  {
   "cell_type": "markdown",
   "metadata": {},
   "source": [
    "# Python List\n",
    "\n",
    "See https://realpython.com/python-lists-tuples/\n",
    "\n",
    "A Python list is a collection of arbitrary objects, similar to an array in many other programming languages.\n",
    "\n",
    "- Lists are ordered.\n",
    "- Lists can contain any arbitrary objects.\n",
    "- List elements can be accessed by index.\n",
    "- Lists can be nested to arbitrary depth."
   ]
  },
  {
   "cell_type": "code",
   "execution_count": null,
   "metadata": {},
   "outputs": [],
   "source": [
    "# one dimensional list/array\n",
    "a = ['apple', 'orange', 'kiwi', 'grape', 'cherry']\n",
    "print(a[4])\n",
    "print(a[1:3])\n",
    "print(a[:3])\n",
    "print(a[2:])\n",
    "print(a[:-2])\n",
    "print(a[1:-2])"
   ]
  },
  {
   "cell_type": "code",
   "execution_count": null,
   "metadata": {},
   "outputs": [],
   "source": [
    "# nested list/two dimentional array\n",
    "b = [['apple', 2], ['orange', 5], ['kiwi', 4], ['grape', 3], ['cherry', 25]]\n",
    "# show the quantity of kiwi\n",
    "print(b[2][1])"
   ]
  },
  {
   "cell_type": "code",
   "execution_count": null,
   "metadata": {
    "scrolled": true
   },
   "outputs": [],
   "source": [
    "# make sure you know the following list methods\n",
    "c = a.append('peach')\n",
    "print(c) # NOTE that append() change a list in place and does not return a new list\n",
    "print(a)\n",
    "a.remove('kiwi')\n",
    "print(a)"
   ]
  },
  {
   "cell_type": "markdown",
   "metadata": {},
   "source": [
    "### List Comprehension\n",
    "List comprehension formula:\n",
    "\n",
    "``new_list = [expression (if conditional for changing the value) for member in iterable (if conditional for filtering the value)]``"
   ]
  },
  {
   "cell_type": "code",
   "execution_count": null,
   "metadata": {},
   "outputs": [],
   "source": [
    "d = [5, -2, 7, 3, -4, 10]\n",
    "\n",
    "# create a list by replacing each number that is smaller than 9 with 'p' if positive, and 'n' if negative\n",
    "d_new = ['p' if i > 0 else 'n' for i in d if i <9]\n",
    "print(d_new)"
   ]
  },
  {
   "cell_type": "code",
   "execution_count": null,
   "metadata": {},
   "outputs": [],
   "source": [
    "# iterate over a list via list comprehension\n",
    "[print(i) for i in d]"
   ]
  },
  {
   "cell_type": "code",
   "execution_count": null,
   "metadata": {},
   "outputs": [],
   "source": [
    "# another way \n",
    "for i in d:\n",
    "    print(i)"
   ]
  },
  {
   "cell_type": "code",
   "execution_count": null,
   "metadata": {},
   "outputs": [],
   "source": [
    "# check out f strings: https://realpython.com/python-f-strings/\n",
    "# if you want to get the index\n",
    "\n",
    "for i in range(len(d)):\n",
    "    print(f'the number at index of {i} is {d[i]}')"
   ]
  },
  {
   "cell_type": "code",
   "execution_count": null,
   "metadata": {},
   "outputs": [],
   "source": [
    "# Exercise: \n",
    "\n",
    "# Given the following string: \n",
    "line = \"My mama always said life was like a box of chocolates. You never know what you're gonna get.\"\n",
    "\n",
    "# Split this string into a list of words, all in lower case, without puncutations.  \n",
    "# Note: split \"you're\" into \"you\" and \"re\"\n",
    "\n",
    "\n",
    "# Create a new list of words with at least four characters. \n"
   ]
  },
  {
   "cell_type": "markdown",
   "metadata": {},
   "source": [
    "## Python Dictionary\n",
    "\n",
    "A dictionary stores (key, value) pairs. "
   ]
  },
  {
   "cell_type": "code",
   "execution_count": null,
   "metadata": {},
   "outputs": [],
   "source": [
    "d = {'cat': 'cute', 'dog': 'furry'}  # Create a new dictionary with some data\n",
    "print(d['cat'])       # Get an entry from a dictionary; prints \"cute\"\n",
    "print('cat' in d)     # Check if a dictionary has a given key; prints \"True\"\n",
    "d['fish'] = 'wet'     # Set an entry in a dictionary\n",
    "print(d['fish'])      # Prints \"wet\"\n",
    "# print(d['monkey'])  # KeyError: 'monkey' not a key of d\n",
    "print(d.get('monkey', 'N/A'))  # Get an element with a default; prints \"N/A\"\n",
    "print(d.get('fish', 'N/A'))    # Get an element with a default; prints \"wet\"\n",
    "del d['fish']         # Remove an element from a dictionary\n",
    "print(d.get('fish', 'N/A')) # \"fish\" is no longer a key; prints \"N/A\""
   ]
  },
  {
   "cell_type": "markdown",
   "metadata": {},
   "source": [
    "It is easy to iterate over the keys in a dictionary:"
   ]
  },
  {
   "cell_type": "code",
   "execution_count": null,
   "metadata": {},
   "outputs": [],
   "source": [
    "d = {'person': 2, 'cat': 4, 'spider': 8}\n",
    "for animal in d:\n",
    "    legs = d[animal]\n",
    "    print('A %s has %d legs.' % (animal, legs))\n",
    "# Prints \"A person has 2 legs\", \"A cat has 4 legs\", \"A spider has 8 legs\""
   ]
  },
  {
   "cell_type": "code",
   "execution_count": null,
   "metadata": {},
   "outputs": [],
   "source": [
    "# Exercise: \n",
    "# Given the following string: \n",
    "line = \"My mama always said life was like a box of chocolates. You never know what you're gonna get.\"\n",
    "\n",
    "# Crete a dictionary to store the start index of each word. \n",
    "# e.g., {'my':0, 'mama':3, ...}\n"
   ]
  },
  {
   "cell_type": "markdown",
   "metadata": {},
   "source": [
    "## Python Set\n",
    "\n",
    "Unlike a list, a set is an *unordered* collection of distinct elements. "
   ]
  },
  {
   "cell_type": "code",
   "execution_count": null,
   "metadata": {},
   "outputs": [],
   "source": [
    "animals = {'cat', 'dog'}\n",
    "print('cat' in animals)   # Check if an element is in a set; prints \"True\"\n",
    "print('fish' in animals)  # prints \"False\"\n",
    "animals.add('fish')       # Add an element to a set\n",
    "print('fish' in animals)  # Prints \"True\"\n",
    "print(len(animals))       # Number of elements in a set; prints \"3\"\n",
    "animals.add('cat')        # Adding an element that is already in the set does nothing\n",
    "print(len(animals))       # Prints \"3\"\n",
    "animals.remove('cat')     # Remove an element from a set\n",
    "print(len(animals))       # Prints \"2\""
   ]
  },
  {
   "cell_type": "markdown",
   "metadata": {},
   "source": [
    "## Python Tuple\n",
    "A tuple is an (immutable) ordered list of values. A tuple is in many ways similar to a list; one of the most important differences is that tuples can be used as keys in dictionaries and as elements of sets, while lists cannot. "
   ]
  },
  {
   "cell_type": "code",
   "execution_count": null,
   "metadata": {},
   "outputs": [],
   "source": [
    "t = ('foo', 'bar', 'baz', 'qux', 'quux', 'corge')\n",
    "print(t[0])\n",
    "print(t[-1])"
   ]
  },
  {
   "cell_type": "markdown",
   "metadata": {},
   "source": [
    "Tuples can be used as keys in dictionaries and as elements of sets. "
   ]
  },
  {
   "cell_type": "code",
   "execution_count": null,
   "metadata": {},
   "outputs": [],
   "source": [
    "d = {(x, x + 1): x for x in range(10)}  # Create a dictionary with tuple keys\n",
    "print(d)\n",
    "t = (5, 6)        # Create a tuple\n",
    "print(type(t))    # Prints \"<class 'tuple'>\"\n",
    "print(d[t])       # Given a key (5, 6), find the corresponding value in dictionary d. "
   ]
  },
  {
   "cell_type": "markdown",
   "metadata": {},
   "source": [
    "# Numpy Basics\n",
    "\n",
    "Referece Chapter: https://jakevdp.github.io/PythonDataScienceHandbook/02.00-introduction-to-numpy.html\n",
    "\n",
    "- NumPy arrays are like Python's built-in list type, but NumPy arrays provide much more efficient storage and data operations as the arrays grow larger in size.\n",
    "- NumPy arrays form the core of nearly the entire ecosystem of data science tools in Python."
   ]
  },
  {
   "cell_type": "code",
   "execution_count": null,
   "metadata": {},
   "outputs": [],
   "source": [
    "import numpy as np\n",
    "np.__version__"
   ]
  },
  {
   "cell_type": "markdown",
   "metadata": {},
   "source": [
    "Creating Arrays from Python Lists"
   ]
  },
  {
   "cell_type": "code",
   "execution_count": null,
   "metadata": {},
   "outputs": [],
   "source": [
    "np.array([1, 4, 2, 5, 3])"
   ]
  },
  {
   "cell_type": "markdown",
   "metadata": {},
   "source": [
    "All elements in a NumPy array must be of the same type. If types do not match, NumPy will upcast if possible: integers are up-cast to floating point:"
   ]
  },
  {
   "cell_type": "code",
   "execution_count": null,
   "metadata": {},
   "outputs": [],
   "source": [
    "# up-cast\n",
    "np.array([3.14, 4, 2, 3])"
   ]
  },
  {
   "cell_type": "code",
   "execution_count": null,
   "metadata": {},
   "outputs": [],
   "source": [
    "# explicit data type\n",
    "np.array([1, 2, 3, 4], dtype='float32')"
   ]
  },
  {
   "cell_type": "code",
   "execution_count": null,
   "metadata": {},
   "outputs": [],
   "source": [
    "# nested lists result in multi-dimensional arrays\n",
    "np.array([[2, 3, 4],\n",
    "       [4, 5, 6],\n",
    "       [6, 7, 8]])"
   ]
  },
  {
   "cell_type": "code",
   "execution_count": null,
   "metadata": {},
   "outputs": [],
   "source": [
    "np.array([range(i, i + 3) for i in [2, 4, 6]])"
   ]
  },
  {
   "cell_type": "markdown",
   "metadata": {},
   "source": [
    "Creating Arrays from Scratch"
   ]
  },
  {
   "cell_type": "code",
   "execution_count": null,
   "metadata": {},
   "outputs": [],
   "source": [
    "# Create a length-10 integer array filled with zeros\n",
    "np.zeros(10, dtype=int)"
   ]
  },
  {
   "cell_type": "code",
   "execution_count": null,
   "metadata": {},
   "outputs": [],
   "source": [
    "# Create a 3x5 floating-point array filled with ones\n",
    "np.ones((3, 5), dtype=float)"
   ]
  },
  {
   "cell_type": "code",
   "execution_count": null,
   "metadata": {},
   "outputs": [],
   "source": [
    "# Create a 3x5 array filled with 3.14\n",
    "np.full((3, 5), 3.14)"
   ]
  },
  {
   "cell_type": "code",
   "execution_count": null,
   "metadata": {},
   "outputs": [],
   "source": [
    "# Create an array filled with a linear sequence\n",
    "# Starting at 0 (inclusive), ending at 20 (exlusive), stepping by 2\n",
    "# (this is similar to the built-in range() function)\n",
    "np.arange(0, 20, 2)"
   ]
  },
  {
   "cell_type": "code",
   "execution_count": null,
   "metadata": {},
   "outputs": [],
   "source": [
    "# Create an array of five values evenly spaced between 0 and 10\n",
    "np.linspace(0, 10, 5)"
   ]
  },
  {
   "cell_type": "code",
   "execution_count": null,
   "metadata": {},
   "outputs": [],
   "source": [
    "# Create a 3x3 array of uniformly distributed\n",
    "# random values between 0 and 1\n",
    "np.random.random((3, 3))"
   ]
  },
  {
   "cell_type": "code",
   "execution_count": null,
   "metadata": {},
   "outputs": [],
   "source": [
    "# Create a 3x3 array of normally distributed random values\n",
    "# with mean 0 and standard deviation 1\n",
    "np.random.normal(0, 1, (3, 3))"
   ]
  },
  {
   "cell_type": "code",
   "execution_count": null,
   "metadata": {},
   "outputs": [],
   "source": [
    "# Create a 3x3 array of random integers in the interval [0, 10)\n",
    "np.random.randint(0, 10, (3, 3))"
   ]
  },
  {
   "cell_type": "code",
   "execution_count": null,
   "metadata": {},
   "outputs": [],
   "source": [
    "# Create a 3x3 identity matrix\n",
    "np.eye(3)"
   ]
  },
  {
   "cell_type": "code",
   "execution_count": null,
   "metadata": {},
   "outputs": [],
   "source": [
    "np.random.seed(42)  # seed for reproducibility\n",
    "\n",
    "x1 = np.random.randint(10, size=6)  # One-dimensional array\n",
    "x2 = np.random.randint(10, size=(3, 4))  # Two-dimensional array: 3 rows x 4 columns\n",
    "x3 = np.random.randint(10, size=(3, 4, 5))  # Three-dimensional array: 3 4 rows x 5 columns two-dimentional array\n",
    "\n",
    "print(x1)\n",
    "print(\"********\")\n",
    "print(x2)\n",
    "print(\"********\")\n",
    "print(x3)"
   ]
  },
  {
   "cell_type": "code",
   "execution_count": null,
   "metadata": {},
   "outputs": [],
   "source": [
    "print(f'x3 ndim: {x3.ndim}')\n",
    "print(f'x3 shape: {x3.shape}')\n",
    "print(f'x3 size: {x3.size}')"
   ]
  },
  {
   "cell_type": "code",
   "execution_count": null,
   "metadata": {},
   "outputs": [],
   "source": [
    "print(\"dtype:\", x3.dtype)"
   ]
  },
  {
   "cell_type": "markdown",
   "metadata": {},
   "source": [
    "# Numpy Array Indexing and Slicing\n",
    "\n",
    "To access a slice of an array x, use this:\n",
    "\n",
    "``x[start:stop:step]``\n",
    "\n",
    "The slice extends from the ‘start’ index and ends one item before the ‘stop’ index.\n",
    "\n",
    "If any of these are unspecified, they default to the values start=0, stop=size of dimension, step=1."
   ]
  },
  {
   "cell_type": "code",
   "execution_count": null,
   "metadata": {},
   "outputs": [],
   "source": [
    "# you need to understand the following \n",
    "print(x1[4])\n",
    "print(x2[2, 0])\n",
    "print(x2[2, :])\n",
    "print(x1[::-1]) # all elements reversed"
   ]
  },
  {
   "cell_type": "code",
   "execution_count": null,
   "metadata": {},
   "outputs": [],
   "source": [
    "print(x3[2]) # The element of index=2 in x3 which is a 4x5 array; same as x3[2,:]"
   ]
  },
  {
   "cell_type": "code",
   "execution_count": null,
   "metadata": {},
   "outputs": [],
   "source": [
    "print(x3[2, 2, 4]) # third 4x5 array, row 3 and column 5, which gives you 5\n",
    "print(x3[2, 1:4, 4]) # think what this is trying to do"
   ]
  },
  {
   "cell_type": "markdown",
   "metadata": {},
   "source": [
    "### Numpy slices are views of the array - not copies!!\n",
    "\n",
    "This default behavior of Numpy is very useful: when we handle large datasets, this allows us to access and process part of the datasset without making copies of the underlying data (could be slow and costly)."
   ]
  },
  {
   "cell_type": "code",
   "execution_count": null,
   "metadata": {},
   "outputs": [],
   "source": [
    "# slices of a list are copies of the list\n",
    "# changing slices does not change the list\n",
    "a = [1, 2, 3, 4, 5]\n",
    "b = a[2:4]\n",
    "print(b)\n",
    "b[1] = 9\n",
    "print(b)\n",
    "print(a)"
   ]
  },
  {
   "cell_type": "code",
   "execution_count": null,
   "metadata": {
    "scrolled": true
   },
   "outputs": [],
   "source": [
    "# slices of a Numpy array are views of the array\n",
    "# changing the slices will change the original array!!!\n",
    "c = np.array([1, 2, 3, 4, 5])\n",
    "#d = c[2] # note c[2] is not a slice of c, if you want to have one element as a slice use c[2:3]\n",
    "d = c[2:4]\n",
    "print(d)\n",
    "d[1] = 9\n",
    "print(d)\n",
    "print(c)"
   ]
  },
  {
   "cell_type": "markdown",
   "metadata": {},
   "source": [
    "If you want to make a copy of the slice, you have to use the copy() method:"
   ]
  },
  {
   "cell_type": "code",
   "execution_count": null,
   "metadata": {},
   "outputs": [],
   "source": [
    "# c won't change\n",
    "e = c[2:4].copy()\n",
    "print(e)\n",
    "e[1] = 8\n",
    "print(e)\n",
    "print(c)"
   ]
  },
  {
   "cell_type": "markdown",
   "metadata": {},
   "source": [
    "# Other Useful Methods\n",
    "\n",
    "- ``sort()``, ``argsort()``\n",
    "- ``reshape()``\n",
    "- ``concatenate()``\n",
    "- ``split()``, ``vsplit()``: split arrays vertically or horizontally\n",
    "- ``vstack()``, ``hstack()``: stacking arrays vertically or horizontally"
   ]
  },
  {
   "cell_type": "code",
   "execution_count": null,
   "metadata": {},
   "outputs": [],
   "source": [
    "# sorting \n",
    "\n",
    "a = np.array([2, 5, 4, 8, 3])\n",
    "b = np.sort(a)\n",
    "print(f'b is {b}')\n",
    "print(f'a is not changed: {a}')\n",
    "c = np.argsort(a) # argsort() returns the indexes of the sorted array\n",
    "print(f'c is the indexes of the sorted a: {c}')\n",
    "a.sort() # sorting in place, a is changed\n",
    "print(f'a has been changed: {a}')"
   ]
  },
  {
   "cell_type": "code",
   "execution_count": null,
   "metadata": {},
   "outputs": [],
   "source": [
    "# reshaping\n",
    "a = np.arange(1, 10)\n",
    "print(f'a is a simple one dimensional array: {a}')\n",
    "grid = a.reshape((3, 3))\n",
    "print(f'a becomes a 3x3 grid after reshaping:')\n",
    "print(grid)"
   ]
  },
  {
   "cell_type": "code",
   "execution_count": null,
   "metadata": {},
   "outputs": [],
   "source": [
    "# Concatenation of arrays\n",
    "x = np.array([1, 2, 3])\n",
    "y = np.array([3, 2, 1])\n",
    "print(np.concatenate([x, y]))\n",
    "\n",
    "# + for numpy is sum, not concatenation\n",
    "z = x + y\n",
    "print(z)\n",
    "\n",
    "# list is different, + is concatenation\n",
    "a = [1, 2]\n",
    "b = [3, 4]\n",
    "print(a + b)"
   ]
  },
  {
   "cell_type": "markdown",
   "metadata": {},
   "source": [
    "## axis\n",
    "\n",
    "axis 0 means row (default), axis 1 means column"
   ]
  },
  {
   "cell_type": "code",
   "execution_count": null,
   "metadata": {},
   "outputs": [],
   "source": [
    "grid = np.array([[1, 2, 3],\n",
    "                 [4, 5, 6]])"
   ]
  },
  {
   "cell_type": "code",
   "execution_count": null,
   "metadata": {},
   "outputs": [],
   "source": [
    "# concatenate along the first axis (row), default\n",
    "np.concatenate([grid, grid], axis=0)"
   ]
  },
  {
   "cell_type": "code",
   "execution_count": null,
   "metadata": {},
   "outputs": [],
   "source": [
    "# concatenate along the second axis (column) (zero-indexed)\n",
    "np.concatenate([grid, grid], axis=1)"
   ]
  },
  {
   "cell_type": "code",
   "execution_count": null,
   "metadata": {},
   "outputs": [],
   "source": [
    "x = np.array([1, 2, 3])\n",
    "grid = np.array([[9, 8, 7],\n",
    "                 [6, 5, 4]])\n",
    "\n",
    "# vertically stack the arrays\n",
    "np.vstack([x, grid])"
   ]
  },
  {
   "cell_type": "code",
   "execution_count": null,
   "metadata": {},
   "outputs": [],
   "source": [
    "# horizontally stack the arrays\n",
    "y = np.array([[99],\n",
    "              [99]])\n",
    "np.hstack([grid, y])"
   ]
  },
  {
   "cell_type": "code",
   "execution_count": null,
   "metadata": {},
   "outputs": [],
   "source": [
    "# splitting arrays\n",
    "x = [1, 2, 3, 99, 99, 3, 2, 1]\n",
    "x1, x2 = np.split(x, [3])\n",
    "print(x1, x2)"
   ]
  },
  {
   "cell_type": "code",
   "execution_count": null,
   "metadata": {},
   "outputs": [],
   "source": [
    "# splitting arrays\n",
    "x = [1, 2, 3, 99, 99, 3, 2, 1]\n",
    "x1, x2, x3 = np.split(x, [3, 6])\n",
    "print(x1, x2, x3)"
   ]
  },
  {
   "cell_type": "code",
   "execution_count": null,
   "metadata": {},
   "outputs": [],
   "source": [
    "# split vertically\n",
    "grid = np.arange(16).reshape((4, 4))\n",
    "grid"
   ]
  },
  {
   "cell_type": "code",
   "execution_count": null,
   "metadata": {},
   "outputs": [],
   "source": [
    "upper, lower = np.vsplit(grid, [2])\n",
    "print(upper)\n",
    "print(lower)"
   ]
  },
  {
   "cell_type": "markdown",
   "metadata": {},
   "source": [
    "## Computation on Arrays"
   ]
  },
  {
   "cell_type": "code",
   "execution_count": null,
   "metadata": {},
   "outputs": [],
   "source": [
    "x = np.arange(5)\n",
    "print(\"x     =\", x)\n",
    "print(\"x + 5 =\", x + 5)\n",
    "print(\"x - 5 =\", x - 5)\n",
    "print(\"x * 2 =\", x * 2)\n",
    "print(\"x / 2 =\", x / 2)\n",
    "print(\"x // 2 =\", x // 2)  # floor division"
   ]
  },
  {
   "cell_type": "code",
   "execution_count": null,
   "metadata": {},
   "outputs": [],
   "source": [
    "print(\"-x     = \", -x)\n",
    "print(\"x ** 2 = \", x ** 2)\n",
    "print(\"x % 2  = \", x % 2)"
   ]
  },
  {
   "cell_type": "markdown",
   "metadata": {},
   "source": [
    "## NumPy functions\n",
    "\n",
    "These arithmetic operations are convenient wrappers around specific functions built into NumPy. The following table lists the arithmetic operators implemented in NumPy:\n",
    "\n",
    "- ``+``:\t``np.add``\tAddition \n",
    "- ``-``:\t``np.subtract``\tSubtraction \n",
    "- ``-``:\t``np.negative``\tUnary negation \n",
    "- ``*``:\t``np.multiply``\tMultiplication \n",
    "- ``/``:\t``np.divide``\tDivision\n",
    "- ``//``:\t``np.floor_divide``\tFloor division \n",
    "- ``**``:\t``np.power``\tExponentiation \n",
    "- ``%``:\t``np.mod``\tModulus/remainder "
   ]
  },
  {
   "cell_type": "code",
   "execution_count": null,
   "metadata": {},
   "outputs": [],
   "source": [
    "np.add(x,2)"
   ]
  },
  {
   "cell_type": "code",
   "execution_count": null,
   "metadata": {},
   "outputs": [],
   "source": [
    "# Absolute value\n",
    "x = np.array([-2, -1, 0, 1, 2])\n",
    "abs(x)"
   ]
  },
  {
   "cell_type": "code",
   "execution_count": null,
   "metadata": {},
   "outputs": [],
   "source": [
    "np.absolute(x)"
   ]
  },
  {
   "cell_type": "code",
   "execution_count": null,
   "metadata": {},
   "outputs": [],
   "source": [
    "np.abs(x)"
   ]
  },
  {
   "cell_type": "code",
   "execution_count": null,
   "metadata": {},
   "outputs": [],
   "source": [
    "# Exponents  \n",
    "x = [1, 2, 3, 4, 5]\n",
    "print(\"x     =\", x)\n",
    "print(\"e^x   =\", np.exp(x))\n",
    "print(\"2^x   =\", np.exp2(x))\n",
    "print(\"3^x   =\", np.power(3, x))"
   ]
  },
  {
   "cell_type": "code",
   "execution_count": null,
   "metadata": {},
   "outputs": [],
   "source": [
    "# Logorithms\n",
    "x = [1, 2, 4, 10, 100]\n",
    "print(\"x        =\", x)\n",
    "print(\"ln(x)    =\", np.log(x))\n",
    "print(\"log2(x)  =\", np.log2(x))\n",
    "print(\"log10(x) =\", np.log10(x))"
   ]
  },
  {
   "cell_type": "markdown",
   "metadata": {},
   "source": [
    "## Aggregation functions\n",
    "\n",
    "Aggregates available in NumPy can be extremely useful for summarizing a set of values. \n",
    "\n",
    "As a simple example, let's consider the heights (cm) of US presidents. "
   ]
  },
  {
   "cell_type": "code",
   "execution_count": null,
   "metadata": {},
   "outputs": [],
   "source": [
    "heights_cm = [189, 170, 189, 163, 183, 171, 185, 168, 173, 183, 173, 173, 175, 178, 183, 193, 178, 173,\n",
    "              174, 183, 183, 168, 170, 178, 182, 180, 183, 178, 182, 188, 175, 179, 183, 193, 182, 183,\n",
    "              177, 185, 188, 188, 182, 185, 190, 183]\n",
    "heights = np.array(heights_cm)\n",
    "print(heights)"
   ]
  },
  {
   "cell_type": "code",
   "execution_count": null,
   "metadata": {},
   "outputs": [],
   "source": [
    "print(\"Mean height:       \", heights.mean())\n",
    "print(\"Standard deviation:\", heights.std())\n",
    "print(\"Minimum height:    \", heights.min())\n",
    "print(\"Maximum height:    \", heights.max())"
   ]
  },
  {
   "cell_type": "code",
   "execution_count": null,
   "metadata": {},
   "outputs": [],
   "source": [
    "print(\"25th percentile:   \", np.percentile(heights, 25))\n",
    "print(\"Median:            \", np.median(heights))\n",
    "print(\"75th percentile:   \", np.percentile(heights, 75))"
   ]
  }
 ],
 "metadata": {
  "kernelspec": {
   "display_name": "Python 3 (ipykernel)",
   "language": "python",
   "name": "python3"
  },
  "language_info": {
   "codemirror_mode": {
    "name": "ipython",
    "version": 3
   },
   "file_extension": ".py",
   "mimetype": "text/x-python",
   "name": "python",
   "nbconvert_exporter": "python",
   "pygments_lexer": "ipython3",
   "version": "3.9.13"
  }
 },
 "nbformat": 4,
 "nbformat_minor": 4
}
