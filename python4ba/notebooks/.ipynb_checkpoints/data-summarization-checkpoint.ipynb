{
 "cells": [
  {
   "cell_type": "markdown",
   "metadata": {},
   "source": [
    "# Data Summarization"
   ]
  },
  {
   "cell_type": "markdown",
   "metadata": {},
   "source": [
    "## Basic Operations of Data Manipulations\n",
    "\n",
    "You have learned several key operations that allow you to solve the vast majority of your data manipulation challenges:\n",
    "\n",
    "* Pick observations by their values.\n",
    "* Reorder the rows.\n",
    "* Pick variables by their names.\n",
    "* Create new variables with functions of existing variables.\n",
    "* **Collapse many values down to a single summary.**\n",
    "\n",
    "These can all be used in conjunction with groupby() which changes the scope of each function from operating on the entire dataset to operating on it group-by-group. "
   ]
  },
  {
   "cell_type": "code",
   "execution_count": 2,
   "metadata": {},
   "outputs": [],
   "source": [
    "import pandas as pd\n",
    "import numpy as np "
   ]
  },
  {
   "cell_type": "code",
   "execution_count": 3,
   "metadata": {
    "scrolled": true
   },
   "outputs": [
    {
     "data": {
      "text/html": [
       "<div>\n",
       "<style scoped>\n",
       "    .dataframe tbody tr th:only-of-type {\n",
       "        vertical-align: middle;\n",
       "    }\n",
       "\n",
       "    .dataframe tbody tr th {\n",
       "        vertical-align: top;\n",
       "    }\n",
       "\n",
       "    .dataframe thead th {\n",
       "        text-align: right;\n",
       "    }\n",
       "</style>\n",
       "<table border=\"1\" class=\"dataframe\">\n",
       "  <thead>\n",
       "    <tr style=\"text-align: right;\">\n",
       "      <th></th>\n",
       "      <th>year</th>\n",
       "      <th>month</th>\n",
       "      <th>day</th>\n",
       "      <th>dep_time</th>\n",
       "      <th>sched_dep_time</th>\n",
       "      <th>dep_delay</th>\n",
       "      <th>arr_time</th>\n",
       "      <th>sched_arr_time</th>\n",
       "      <th>arr_delay</th>\n",
       "      <th>carrier</th>\n",
       "      <th>flight</th>\n",
       "      <th>tailnum</th>\n",
       "      <th>origin</th>\n",
       "      <th>dest</th>\n",
       "      <th>air_time</th>\n",
       "      <th>distance</th>\n",
       "      <th>hour</th>\n",
       "      <th>minute</th>\n",
       "      <th>time_hour</th>\n",
       "    </tr>\n",
       "  </thead>\n",
       "  <tbody>\n",
       "    <tr>\n",
       "      <th>0</th>\n",
       "      <td>2013</td>\n",
       "      <td>1</td>\n",
       "      <td>1</td>\n",
       "      <td>517.0</td>\n",
       "      <td>515</td>\n",
       "      <td>2.0</td>\n",
       "      <td>830.0</td>\n",
       "      <td>819</td>\n",
       "      <td>11.0</td>\n",
       "      <td>UA</td>\n",
       "      <td>1545</td>\n",
       "      <td>N14228</td>\n",
       "      <td>EWR</td>\n",
       "      <td>IAH</td>\n",
       "      <td>227.0</td>\n",
       "      <td>1400</td>\n",
       "      <td>5</td>\n",
       "      <td>15</td>\n",
       "      <td>2013-01-01T10:00:00Z</td>\n",
       "    </tr>\n",
       "    <tr>\n",
       "      <th>1</th>\n",
       "      <td>2013</td>\n",
       "      <td>1</td>\n",
       "      <td>1</td>\n",
       "      <td>533.0</td>\n",
       "      <td>529</td>\n",
       "      <td>4.0</td>\n",
       "      <td>850.0</td>\n",
       "      <td>830</td>\n",
       "      <td>20.0</td>\n",
       "      <td>UA</td>\n",
       "      <td>1714</td>\n",
       "      <td>N24211</td>\n",
       "      <td>LGA</td>\n",
       "      <td>IAH</td>\n",
       "      <td>227.0</td>\n",
       "      <td>1416</td>\n",
       "      <td>5</td>\n",
       "      <td>29</td>\n",
       "      <td>2013-01-01T10:00:00Z</td>\n",
       "    </tr>\n",
       "    <tr>\n",
       "      <th>2</th>\n",
       "      <td>2013</td>\n",
       "      <td>1</td>\n",
       "      <td>1</td>\n",
       "      <td>542.0</td>\n",
       "      <td>540</td>\n",
       "      <td>2.0</td>\n",
       "      <td>923.0</td>\n",
       "      <td>850</td>\n",
       "      <td>33.0</td>\n",
       "      <td>AA</td>\n",
       "      <td>1141</td>\n",
       "      <td>N619AA</td>\n",
       "      <td>JFK</td>\n",
       "      <td>MIA</td>\n",
       "      <td>160.0</td>\n",
       "      <td>1089</td>\n",
       "      <td>5</td>\n",
       "      <td>40</td>\n",
       "      <td>2013-01-01T10:00:00Z</td>\n",
       "    </tr>\n",
       "    <tr>\n",
       "      <th>3</th>\n",
       "      <td>2013</td>\n",
       "      <td>1</td>\n",
       "      <td>1</td>\n",
       "      <td>544.0</td>\n",
       "      <td>545</td>\n",
       "      <td>-1.0</td>\n",
       "      <td>1004.0</td>\n",
       "      <td>1022</td>\n",
       "      <td>-18.0</td>\n",
       "      <td>B6</td>\n",
       "      <td>725</td>\n",
       "      <td>N804JB</td>\n",
       "      <td>JFK</td>\n",
       "      <td>BQN</td>\n",
       "      <td>183.0</td>\n",
       "      <td>1576</td>\n",
       "      <td>5</td>\n",
       "      <td>45</td>\n",
       "      <td>2013-01-01T10:00:00Z</td>\n",
       "    </tr>\n",
       "    <tr>\n",
       "      <th>4</th>\n",
       "      <td>2013</td>\n",
       "      <td>1</td>\n",
       "      <td>1</td>\n",
       "      <td>554.0</td>\n",
       "      <td>600</td>\n",
       "      <td>-6.0</td>\n",
       "      <td>812.0</td>\n",
       "      <td>837</td>\n",
       "      <td>-25.0</td>\n",
       "      <td>DL</td>\n",
       "      <td>461</td>\n",
       "      <td>N668DN</td>\n",
       "      <td>LGA</td>\n",
       "      <td>ATL</td>\n",
       "      <td>116.0</td>\n",
       "      <td>762</td>\n",
       "      <td>6</td>\n",
       "      <td>0</td>\n",
       "      <td>2013-01-01T11:00:00Z</td>\n",
       "    </tr>\n",
       "  </tbody>\n",
       "</table>\n",
       "</div>"
      ],
      "text/plain": [
       "   year  month  day  dep_time  sched_dep_time  dep_delay  arr_time  \\\n",
       "0  2013      1    1     517.0             515        2.0     830.0   \n",
       "1  2013      1    1     533.0             529        4.0     850.0   \n",
       "2  2013      1    1     542.0             540        2.0     923.0   \n",
       "3  2013      1    1     544.0             545       -1.0    1004.0   \n",
       "4  2013      1    1     554.0             600       -6.0     812.0   \n",
       "\n",
       "   sched_arr_time  arr_delay carrier  flight tailnum origin dest  air_time  \\\n",
       "0             819       11.0      UA    1545  N14228    EWR  IAH     227.0   \n",
       "1             830       20.0      UA    1714  N24211    LGA  IAH     227.0   \n",
       "2             850       33.0      AA    1141  N619AA    JFK  MIA     160.0   \n",
       "3            1022      -18.0      B6     725  N804JB    JFK  BQN     183.0   \n",
       "4             837      -25.0      DL     461  N668DN    LGA  ATL     116.0   \n",
       "\n",
       "   distance  hour  minute             time_hour  \n",
       "0      1400     5      15  2013-01-01T10:00:00Z  \n",
       "1      1416     5      29  2013-01-01T10:00:00Z  \n",
       "2      1089     5      40  2013-01-01T10:00:00Z  \n",
       "3      1576     5      45  2013-01-01T10:00:00Z  \n",
       "4       762     6       0  2013-01-01T11:00:00Z  "
      ]
     },
     "execution_count": 3,
     "metadata": {},
     "output_type": "execute_result"
    }
   ],
   "source": [
    "from nycflights13 import flights\n",
    "flights.head()"
   ]
  },
  {
   "cell_type": "markdown",
   "metadata": {},
   "source": [
    "## Data frame with columns\n",
    "\n",
    "- year,month,day\n",
    "        Date of departure    \n",
    "- dep_time,arr_time\n",
    "        Actual departure and arrival times (format HHMM or HMM), local tz.\n",
    "- sched_dep_time,sched_arr_time\n",
    "        Scheduled departure and arrival times (format HHMM or HMM), local tz.    \n",
    "- dep_delay,arr_delay\n",
    "        Departure and arrival delays, in minutes. Negative times represent early departures/arrivals.\n",
    "- hour,minute\n",
    "        Time of scheduled departure broken into hour and minutes.\n",
    "- carrier\n",
    "        Two letter carrier abbreviation. See airlines() to get name\n",
    "- tailnum\n",
    "        Plane tail number\n",
    "- flight\n",
    "        Flight number\n",
    "- origin,dest\n",
    "        Origin and destination. See airports() for additional metadata.\n",
    "- air_time\n",
    "        Amount of time spent in the air, in minutes\n",
    "- distance\n",
    "        Distance between airports, in miles\n",
    "- time_hour\n",
    "        Scheduled date and hour of the flight as a date. Along with origin, can be used to join flights data to weather data."
   ]
  },
  {
   "cell_type": "code",
   "execution_count": null,
   "metadata": {},
   "outputs": [],
   "source": [
    "# Basic descriptive statistics for each column \n",
    "flights.describe()"
   ]
  },
  {
   "cell_type": "code",
   "execution_count": null,
   "metadata": {
    "scrolled": true
   },
   "outputs": [],
   "source": [
    "flights.describe(include='all')"
   ]
  },
  {
   "cell_type": "code",
   "execution_count": 4,
   "metadata": {},
   "outputs": [
    {
     "data": {
      "text/plain": [
       "(336776, 19)"
      ]
     },
     "execution_count": 4,
     "metadata": {},
     "output_type": "execute_result"
    }
   ],
   "source": [
    "# Dimensions of the dataframe\n",
    "flights.shape"
   ]
  },
  {
   "cell_type": "code",
   "execution_count": 5,
   "metadata": {},
   "outputs": [
    {
     "data": {
      "text/plain": [
       "336776"
      ]
     },
     "execution_count": 5,
     "metadata": {},
     "output_type": "execute_result"
    }
   ],
   "source": [
    "# Number of rows in the dataframe\n",
    "len(flights)"
   ]
  },
  {
   "cell_type": "code",
   "execution_count": 6,
   "metadata": {},
   "outputs": [
    {
     "data": {
      "text/plain": [
       "16"
      ]
     },
     "execution_count": 6,
     "metadata": {},
     "output_type": "execute_result"
    }
   ],
   "source": [
    "# Number of distinct values in a column.\n",
    "flights['carrier'].nunique()"
   ]
  },
  {
   "cell_type": "code",
   "execution_count": 7,
   "metadata": {},
   "outputs": [
    {
     "data": {
      "text/plain": [
       "UA    58665\n",
       "B6    54635\n",
       "EV    54173\n",
       "DL    48110\n",
       "AA    32729\n",
       "MQ    26397\n",
       "US    20536\n",
       "9E    18460\n",
       "WN    12275\n",
       "VX     5162\n",
       "FL     3260\n",
       "AS      714\n",
       "F9      685\n",
       "YV      601\n",
       "HA      342\n",
       "OO       32\n",
       "Name: carrier, dtype: int64"
      ]
     },
     "execution_count": 7,
     "metadata": {},
     "output_type": "execute_result"
    }
   ],
   "source": [
    "# Count number of rows with each unique value of variable\n",
    "flights['carrier'].value_counts()"
   ]
  },
  {
   "cell_type": "markdown",
   "metadata": {},
   "source": [
    "## Summary functions\n",
    "\n",
    "Pandas provides a large set of summary functions that operate on different kinds of pandas objects (DataFrame columns, Series, GroupBy, and produce single values for each of the groups. When applied to a DataFrame, the result is returned as a pandas Series for each column. Examples:\n",
    "- ``sum()`` Sum values of each object.\n",
    "- ``count()`` Count non-NA/null values of each object.\n",
    "- ``median()`` Median value of each object.\n",
    "- ``quantile([0.25,0.75])`` Quantiles of each object.\n",
    "- ``min()`` Minimum value in each object.\n",
    "- ``max()`` Maximum value in each object.\n",
    "- ``mean()`` Mean value of each object.\n",
    "- ``var()`` Variance of each object.\n",
    "- ``std()`` Standard deviation of each object.\n",
    "- ``apply(function)`` Apply function to each object.\n",
    "\n",
    "These summary functions can be applied to all the rows in the dataframe. "
   ]
  },
  {
   "cell_type": "code",
   "execution_count": 8,
   "metadata": {},
   "outputs": [
    {
     "data": {
      "text/plain": [
       "336776"
      ]
     },
     "execution_count": 8,
     "metadata": {},
     "output_type": "execute_result"
    }
   ],
   "source": [
    "# Count the number of flights (rows)\n",
    "flights['flight'].count()"
   ]
  },
  {
   "cell_type": "code",
   "execution_count": 9,
   "metadata": {},
   "outputs": [
    {
     "data": {
      "text/plain": [
       "350217607"
      ]
     },
     "execution_count": 9,
     "metadata": {},
     "output_type": "execute_result"
    }
   ],
   "source": [
    "# Sum up the total distance of all flights. \n",
    "flights['distance'].sum()"
   ]
  },
  {
   "cell_type": "code",
   "execution_count": 10,
   "metadata": {},
   "outputs": [
    {
     "data": {
      "text/plain": [
       "6.89537675731489"
      ]
     },
     "execution_count": 10,
     "metadata": {},
     "output_type": "execute_result"
    }
   ],
   "source": [
    "# Average/mean of arrival delay\n",
    "flights['arr_delay'].mean()"
   ]
  },
  {
   "cell_type": "code",
   "execution_count": null,
   "metadata": {},
   "outputs": [],
   "source": [
    "# Apply a function to multiple columns\n",
    "flights[['distance','air_time']].max()"
   ]
  },
  {
   "cell_type": "markdown",
   "metadata": {},
   "source": [
    "## Group by\n",
    "\n",
    "These summary functions are not terribly useful unless we pair them with groupby(). This changes the unit of analysis from the complete dataset to individual groups. Then, when you use a summary function on a grouped data frame they’ll be automatically applied “by group”. "
   ]
  },
  {
   "cell_type": "code",
   "execution_count": 11,
   "metadata": {},
   "outputs": [
    {
     "data": {
      "text/plain": [
       "carrier\n",
       "9E    18460\n",
       "AA    32729\n",
       "AS      714\n",
       "B6    54635\n",
       "DL    48110\n",
       "EV    54173\n",
       "F9      685\n",
       "FL     3260\n",
       "HA      342\n",
       "MQ    26397\n",
       "OO       32\n",
       "UA    58665\n",
       "US    20536\n",
       "VX     5162\n",
       "WN    12275\n",
       "YV      601\n",
       "dtype: int64"
      ]
     },
     "execution_count": 11,
     "metadata": {},
     "output_type": "execute_result"
    }
   ],
   "source": [
    "flights.groupby('carrier').size()"
   ]
  },
  {
   "cell_type": "code",
   "execution_count": 12,
   "metadata": {},
   "outputs": [
    {
     "data": {
      "text/plain": [
       "carrier  flight\n",
       "9E       2900      59\n",
       "         2901      55\n",
       "         2902      55\n",
       "         2903      56\n",
       "         2904      57\n",
       "                   ..\n",
       "YV       3778       3\n",
       "         3788      23\n",
       "         3790       9\n",
       "         3791      15\n",
       "         3799       1\n",
       "Length: 5725, dtype: int64"
      ]
     },
     "execution_count": 12,
     "metadata": {},
     "output_type": "execute_result"
    }
   ],
   "source": [
    "flights.groupby(['carrier','flight']).size()"
   ]
  },
  {
   "cell_type": "code",
   "execution_count": 13,
   "metadata": {},
   "outputs": [
    {
     "data": {
      "text/plain": [
       "year  month  day\n",
       "2013  1      1      12.651023\n",
       "             2      12.692888\n",
       "             3       5.733333\n",
       "             4      -1.932819\n",
       "             5      -1.525802\n",
       "                      ...    \n",
       "      12     27     -0.148803\n",
       "             28     -3.259533\n",
       "             29     18.763825\n",
       "             30     10.057712\n",
       "             31      6.212121\n",
       "Name: arr_delay, Length: 365, dtype: float64"
      ]
     },
     "execution_count": 13,
     "metadata": {},
     "output_type": "execute_result"
    }
   ],
   "source": [
    "flights.groupby(['year','month','day'])['arr_delay'].mean()"
   ]
  },
  {
   "cell_type": "code",
   "execution_count": 14,
   "metadata": {},
   "outputs": [
    {
     "data": {
      "text/html": [
       "<div>\n",
       "<style scoped>\n",
       "    .dataframe tbody tr th:only-of-type {\n",
       "        vertical-align: middle;\n",
       "    }\n",
       "\n",
       "    .dataframe tbody tr th {\n",
       "        vertical-align: top;\n",
       "    }\n",
       "\n",
       "    .dataframe thead th {\n",
       "        text-align: right;\n",
       "    }\n",
       "</style>\n",
       "<table border=\"1\" class=\"dataframe\">\n",
       "  <thead>\n",
       "    <tr style=\"text-align: right;\">\n",
       "      <th></th>\n",
       "      <th></th>\n",
       "      <th>mean</th>\n",
       "      <th>std</th>\n",
       "      <th>min</th>\n",
       "      <th>max</th>\n",
       "    </tr>\n",
       "    <tr>\n",
       "      <th>year</th>\n",
       "      <th>month</th>\n",
       "      <th></th>\n",
       "      <th></th>\n",
       "      <th></th>\n",
       "      <th></th>\n",
       "    </tr>\n",
       "  </thead>\n",
       "  <tbody>\n",
       "    <tr>\n",
       "      <th rowspan=\"12\" valign=\"top\">2013</th>\n",
       "      <th>1</th>\n",
       "      <td>6.129972</td>\n",
       "      <td>40.423898</td>\n",
       "      <td>-70.0</td>\n",
       "      <td>1272.0</td>\n",
       "    </tr>\n",
       "    <tr>\n",
       "      <th>2</th>\n",
       "      <td>5.613019</td>\n",
       "      <td>39.528619</td>\n",
       "      <td>-70.0</td>\n",
       "      <td>834.0</td>\n",
       "    </tr>\n",
       "    <tr>\n",
       "      <th>3</th>\n",
       "      <td>5.807577</td>\n",
       "      <td>44.119192</td>\n",
       "      <td>-68.0</td>\n",
       "      <td>915.0</td>\n",
       "    </tr>\n",
       "    <tr>\n",
       "      <th>4</th>\n",
       "      <td>11.176063</td>\n",
       "      <td>47.491151</td>\n",
       "      <td>-68.0</td>\n",
       "      <td>931.0</td>\n",
       "    </tr>\n",
       "    <tr>\n",
       "      <th>5</th>\n",
       "      <td>3.521509</td>\n",
       "      <td>44.237613</td>\n",
       "      <td>-86.0</td>\n",
       "      <td>875.0</td>\n",
       "    </tr>\n",
       "    <tr>\n",
       "      <th>6</th>\n",
       "      <td>16.481330</td>\n",
       "      <td>56.130866</td>\n",
       "      <td>-64.0</td>\n",
       "      <td>1127.0</td>\n",
       "    </tr>\n",
       "    <tr>\n",
       "      <th>7</th>\n",
       "      <td>16.711307</td>\n",
       "      <td>57.117088</td>\n",
       "      <td>-66.0</td>\n",
       "      <td>989.0</td>\n",
       "    </tr>\n",
       "    <tr>\n",
       "      <th>8</th>\n",
       "      <td>6.040652</td>\n",
       "      <td>42.595142</td>\n",
       "      <td>-68.0</td>\n",
       "      <td>490.0</td>\n",
       "    </tr>\n",
       "    <tr>\n",
       "      <th>9</th>\n",
       "      <td>-4.018364</td>\n",
       "      <td>39.710309</td>\n",
       "      <td>-68.0</td>\n",
       "      <td>1007.0</td>\n",
       "    </tr>\n",
       "    <tr>\n",
       "      <th>10</th>\n",
       "      <td>-0.167063</td>\n",
       "      <td>32.649858</td>\n",
       "      <td>-61.0</td>\n",
       "      <td>688.0</td>\n",
       "    </tr>\n",
       "    <tr>\n",
       "      <th>11</th>\n",
       "      <td>0.461347</td>\n",
       "      <td>31.387406</td>\n",
       "      <td>-67.0</td>\n",
       "      <td>796.0</td>\n",
       "    </tr>\n",
       "    <tr>\n",
       "      <th>12</th>\n",
       "      <td>14.870355</td>\n",
       "      <td>46.133110</td>\n",
       "      <td>-68.0</td>\n",
       "      <td>878.0</td>\n",
       "    </tr>\n",
       "  </tbody>\n",
       "</table>\n",
       "</div>"
      ],
      "text/plain": [
       "                 mean        std   min     max\n",
       "year month                                    \n",
       "2013 1       6.129972  40.423898 -70.0  1272.0\n",
       "     2       5.613019  39.528619 -70.0   834.0\n",
       "     3       5.807577  44.119192 -68.0   915.0\n",
       "     4      11.176063  47.491151 -68.0   931.0\n",
       "     5       3.521509  44.237613 -86.0   875.0\n",
       "     6      16.481330  56.130866 -64.0  1127.0\n",
       "     7      16.711307  57.117088 -66.0   989.0\n",
       "     8       6.040652  42.595142 -68.0   490.0\n",
       "     9      -4.018364  39.710309 -68.0  1007.0\n",
       "     10     -0.167063  32.649858 -61.0   688.0\n",
       "     11      0.461347  31.387406 -67.0   796.0\n",
       "     12     14.870355  46.133110 -68.0   878.0"
      ]
     },
     "execution_count": 14,
     "metadata": {},
     "output_type": "execute_result"
    }
   ],
   "source": [
    "flights.groupby(['year','month'])['arr_delay'].agg(['mean','std','min','max'])"
   ]
  },
  {
   "cell_type": "markdown",
   "metadata": {},
   "source": [
    "What if we want to apply different summary functions to different columns? "
   ]
  },
  {
   "cell_type": "code",
   "execution_count": null,
   "metadata": {
    "scrolled": true
   },
   "outputs": [],
   "source": [
    "flights.groupby('carrier').agg({'flight': 'size',\n",
    "                                'distance': 'sum', \n",
    "                                'arr_delay': ['mean','std'],\n",
    "                                'hour': lambda x: x.max()-x.min()\n",
    "                               })"
   ]
  },
  {
   "cell_type": "code",
   "execution_count": null,
   "metadata": {},
   "outputs": [],
   "source": [
    "# You can also create a function to include multiple aggregate functions on different columns. \n",
    "# In this way, you can give a name for each new column in the resulting dataframe. \n",
    "def f(x):\n",
    "    d = {}\n",
    "    d['flight_count'] = x['flight'].count()\n",
    "    d['total_distance'] = x['distance'].sum()\n",
    "    d['arr_delay_mean'] = x['arr_delay'].mean()\n",
    "    d['arr_delay_std'] = x['arr_delay'].std()\n",
    "    d['hour_range'] = x['hour'].max() - x['hour'].min()\n",
    "    return pd.Series(d)\n",
    "\n",
    "flights.groupby('carrier').apply(f)"
   ]
  },
  {
   "cell_type": "markdown",
   "metadata": {},
   "source": [
    "## Combining multiple operations\n",
    "\n",
    "Now let's put multiple operators we've learned together. "
   ]
  },
  {
   "cell_type": "markdown",
   "metadata": {},
   "source": [
    "### Q1. How many flights left before 5am on each day? (These usually indicate delayed flights from the previous day)"
   ]
  },
  {
   "cell_type": "code",
   "execution_count": 20,
   "metadata": {},
   "outputs": [
    {
     "data": {
      "text/plain": [
       "month  day\n",
       "1      2      3\n",
       "       3      4\n",
       "       4      3\n",
       "       5      3\n",
       "       6      2\n",
       "             ..\n",
       "12     27     7\n",
       "       28     2\n",
       "       29     3\n",
       "       30     6\n",
       "       31     4\n",
       "Length: 348, dtype: int64"
      ]
     },
     "execution_count": 20,
     "metadata": {},
     "output_type": "execute_result"
    }
   ],
   "source": [
    "# Write the code below: \n",
    "flights[flights.dep_time<500].groupby(['month','day']).size()"
   ]
  },
  {
   "cell_type": "markdown",
   "metadata": {},
   "source": [
    "### Q2. For each destination from any of the three airports in NYC, explore the relationship between the distance and average delay. \n",
    "\n",
    "Follow the three steps:\n",
    "- Group flights by destination and summarise to compute number of flights, average distance, and average arrival delay.\n",
    "- Filter to remove noisy points and Honolulu airport (HNL), which is almost twice as far away as the next closest airport.\n",
    "- Sort all rows by arrival delay."
   ]
  },
  {
   "cell_type": "code",
   "execution_count": 35,
   "metadata": {},
   "outputs": [
    {
     "data": {
      "text/html": [
       "<div>\n",
       "<style scoped>\n",
       "    .dataframe tbody tr th:only-of-type {\n",
       "        vertical-align: middle;\n",
       "    }\n",
       "\n",
       "    .dataframe tbody tr th {\n",
       "        vertical-align: top;\n",
       "    }\n",
       "\n",
       "    .dataframe thead th {\n",
       "        text-align: right;\n",
       "    }\n",
       "</style>\n",
       "<table border=\"1\" class=\"dataframe\">\n",
       "  <thead>\n",
       "    <tr style=\"text-align: right;\">\n",
       "      <th></th>\n",
       "      <th>flight</th>\n",
       "      <th>distance</th>\n",
       "      <th>arr_delay</th>\n",
       "    </tr>\n",
       "    <tr>\n",
       "      <th>dest</th>\n",
       "      <th></th>\n",
       "      <th></th>\n",
       "      <th></th>\n",
       "    </tr>\n",
       "  </thead>\n",
       "  <tbody>\n",
       "    <tr>\n",
       "      <th>LEX</th>\n",
       "      <td>1</td>\n",
       "      <td>604.000000</td>\n",
       "      <td>-22.000000</td>\n",
       "    </tr>\n",
       "    <tr>\n",
       "      <th>PSP</th>\n",
       "      <td>19</td>\n",
       "      <td>2378.000000</td>\n",
       "      <td>-12.722222</td>\n",
       "    </tr>\n",
       "    <tr>\n",
       "      <th>AVL</th>\n",
       "      <td>10</td>\n",
       "      <td>599.000000</td>\n",
       "      <td>-12.100000</td>\n",
       "    </tr>\n",
       "    <tr>\n",
       "      <th>SAV</th>\n",
       "      <td>68</td>\n",
       "      <td>722.000000</td>\n",
       "      <td>-10.514706</td>\n",
       "    </tr>\n",
       "    <tr>\n",
       "      <th>STT</th>\n",
       "      <td>333</td>\n",
       "      <td>1623.000000</td>\n",
       "      <td>-6.372727</td>\n",
       "    </tr>\n",
       "    <tr>\n",
       "      <th>...</th>\n",
       "      <td>...</td>\n",
       "      <td>...</td>\n",
       "      <td>...</td>\n",
       "    </tr>\n",
       "    <tr>\n",
       "      <th>BHM</th>\n",
       "      <td>297</td>\n",
       "      <td>865.996633</td>\n",
       "      <td>16.877323</td>\n",
       "    </tr>\n",
       "    <tr>\n",
       "      <th>MHT</th>\n",
       "      <td>142</td>\n",
       "      <td>195.000000</td>\n",
       "      <td>17.527778</td>\n",
       "    </tr>\n",
       "    <tr>\n",
       "      <th>EGE</th>\n",
       "      <td>103</td>\n",
       "      <td>1746.572816</td>\n",
       "      <td>18.534653</td>\n",
       "    </tr>\n",
       "    <tr>\n",
       "      <th>CAE</th>\n",
       "      <td>12</td>\n",
       "      <td>617.000000</td>\n",
       "      <td>19.666667</td>\n",
       "    </tr>\n",
       "    <tr>\n",
       "      <th>CAK</th>\n",
       "      <td>864</td>\n",
       "      <td>397.000000</td>\n",
       "      <td>19.698337</td>\n",
       "    </tr>\n",
       "  </tbody>\n",
       "</table>\n",
       "<p>93 rows × 3 columns</p>\n",
       "</div>"
      ],
      "text/plain": [
       "      flight     distance  arr_delay\n",
       "dest                                \n",
       "LEX        1   604.000000 -22.000000\n",
       "PSP       19  2378.000000 -12.722222\n",
       "AVL       10   599.000000 -12.100000\n",
       "SAV       68   722.000000 -10.514706\n",
       "STT      333  1623.000000  -6.372727\n",
       "...      ...          ...        ...\n",
       "BHM      297   865.996633  16.877323\n",
       "MHT      142   195.000000  17.527778\n",
       "EGE      103  1746.572816  18.534653\n",
       "CAE       12   617.000000  19.666667\n",
       "CAK      864   397.000000  19.698337\n",
       "\n",
       "[93 rows x 3 columns]"
      ]
     },
     "execution_count": 35,
     "metadata": {},
     "output_type": "execute_result"
    }
   ],
   "source": [
    "# Your code step by step: \n",
    "data=flights[(flights.origin.isin(['JFK','LGA','NWK']))& (flights.dest != 'HNL')]\n",
    "data=data.groupby('dest').agg ({\n",
    "    'flight':'count',\n",
    "    'distance':'mean',\n",
    "    'arr_delay':'mean'\n",
    "})\n",
    "data.sort_values('arr_delay')"
   ]
  },
  {
   "cell_type": "code",
   "execution_count": null,
   "metadata": {},
   "outputs": [],
   "source": [
    "# Put everything in one line of code: \n"
   ]
  },
  {
   "cell_type": "markdown",
   "metadata": {},
   "source": [
    "### Q3. Find the planes (identified by the tail number) that have the highest average arrival delays."
   ]
  },
  {
   "cell_type": "code",
   "execution_count": null,
   "metadata": {},
   "outputs": [],
   "source": [
    "# First, find the flights that are not cancelled. Save them in a separate dataframe named \"not_cancelled\"\n",
    "# Assumption: flights that are not cancelled should have values for dep_delay and arr_delay. \n"
   ]
  },
  {
   "cell_type": "code",
   "execution_count": null,
   "metadata": {},
   "outputs": [],
   "source": [
    "# For each plane, find the average arrival delays and the flight count. \n",
    "# Save the results in a dataframe named \"delays\"\n"
   ]
  },
  {
   "cell_type": "code",
   "execution_count": null,
   "metadata": {},
   "outputs": [],
   "source": [
    "# Explore the \"delays\" dataframe. \n",
    "# Try to create a scatter plot to show 'flight' vs. 'arr_delay'\n",
    "# https://pandas.pydata.org/pandas-docs/version/0.25.0/reference/api/pandas.DataFrame.plot.scatter.html\n"
   ]
  },
  {
   "cell_type": "markdown",
   "metadata": {},
   "source": [
    "**What is the range of average arrival delay for these planes?**\n",
    "\n",
    "**Any outliers?**\n",
    " "
   ]
  },
  {
   "cell_type": "markdown",
   "metadata": {},
   "source": [
    "## Operations within groups\n",
    "\n",
    "Grouping is most useful in conjunction with aggregate functions. But you can also do other operations within groups:"
   ]
  },
  {
   "cell_type": "code",
   "execution_count": null,
   "metadata": {},
   "outputs": [],
   "source": [
    "# Find the worst members of each group:\n",
    "\n",
    "# Find the top three flights with the longest arr_delay everyday. \n",
    "flights['rank_daily_delay'] = flights.groupby(['year', 'month', 'day'])['arr_delay'].rank(method='min',ascending=False)\n",
    "flights[flights.rank_daily_delay<=3]"
   ]
  },
  {
   "cell_type": "code",
   "execution_count": null,
   "metadata": {},
   "outputs": [],
   "source": [
    "# Find all groups bigger than a threshold:\n",
    "\n",
    "# Find all flights that fly to the popular destinations that appear in over 1000 times(flights). \n",
    "flights.groupby('dest').filter(lambda x: x['dest'].count()>1000)"
   ]
  },
  {
   "cell_type": "code",
   "execution_count": null,
   "metadata": {},
   "outputs": [],
   "source": [
    "# Standardise to compute per group metrics:\n",
    "\n",
    "# For all flights that arrived later than scheduled, \n",
    "# calculate the proportion of arrival delay among delayed flights to the each destination\n",
    "# display year, month, day, destination, flight, arr_delay, and proportion of arr_delay\n",
    "flights['prop_delay'] = flights[flights.arr_delay>0].groupby('dest')['arr_delay'].transform(lambda x: x / x.sum())\n",
    "flights[flights.arr_delay>0][['year', 'month', 'day', 'dest', 'flight', 'arr_delay', 'prop_delay']]    "
   ]
  }
 ],
 "metadata": {
  "kernelspec": {
   "display_name": "Python 3 (ipykernel)",
   "language": "python",
   "name": "python3"
  },
  "language_info": {
   "codemirror_mode": {
    "name": "ipython",
    "version": 3
   },
   "file_extension": ".py",
   "mimetype": "text/x-python",
   "name": "python",
   "nbconvert_exporter": "python",
   "pygments_lexer": "ipython3",
   "version": "3.9.13"
  }
 },
 "nbformat": 4,
 "nbformat_minor": 4
}
