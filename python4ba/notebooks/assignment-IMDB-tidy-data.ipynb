{
 "cells": [
  {
   "cell_type": "markdown",
   "metadata": {},
   "source": [
    "# Assignment - Analyzing the IMDB Top 1000 Movies"
   ]
  },
  {
   "cell_type": "markdown",
   "metadata": {},
   "source": [
    "In the next few assignments, you will be working with this data set of IMDB top 1000 movies. \n",
    "\n",
    "Source: https://www.kaggle.com/harshitshankhdhar/imdb-dataset-of-top-1000-movies-and-tv-shows"
   ]
  },
  {
   "cell_type": "code",
   "execution_count": null,
   "metadata": {},
   "outputs": [],
   "source": [
    "import pandas as pd\n",
    "import numpy as np "
   ]
  },
  {
   "cell_type": "code",
   "execution_count": null,
   "metadata": {},
   "outputs": [],
   "source": [
    "# Read the data file \"imdb_top_1000.csv\" to a dataframe named \"imdb\"\n",
    "imdb = pd.read_csv('../data/imdb_top_1000.csv', header=0)\n",
    "imdb.head()"
   ]
  },
  {
   "cell_type": "code",
   "execution_count": null,
   "metadata": {},
   "outputs": [],
   "source": [
    "# Number of rows?\n",
    "# Number of columns?\n",
    "imdb.shape"
   ]
  },
  {
   "cell_type": "code",
   "execution_count": null,
   "metadata": {},
   "outputs": [],
   "source": [
    "# Describe the dataframe using the info() method.\n",
    "imdb.info()"
   ]
  },
  {
   "cell_type": "code",
   "execution_count": null,
   "metadata": {
    "scrolled": true
   },
   "outputs": [],
   "source": [
    "# Use describe() to summarize the descriptive statistics of *all* columns\n",
    "imdb.describe(include='all')"
   ]
  },
  {
   "cell_type": "code",
   "execution_count": null,
   "metadata": {
    "scrolled": true
   },
   "outputs": [],
   "source": [
    "# List all the column names: \n",
    "imdb.columns"
   ]
  },
  {
   "cell_type": "markdown",
   "metadata": {},
   "source": [
    "## Part 1: Data Manipulation"
   ]
  },
  {
   "cell_type": "code",
   "execution_count": null,
   "metadata": {},
   "outputs": [],
   "source": [
    "# In this dataset, there is a movie with an error in \"Released_Year\". (Hint: Released_Year should be a 4-digit integer.)\n",
    "# Find this movie. \n",
    "imdb[imdb['Released_Year'].str.isdigit()==False]"
   ]
  },
  {
   "cell_type": "code",
   "execution_count": null,
   "metadata": {},
   "outputs": [],
   "source": [
    "imdb['Released_Year'].unique()"
   ]
  },
  {
   "cell_type": "code",
   "execution_count": null,
   "metadata": {},
   "outputs": [],
   "source": [
    "# Correct the values for the corresponding columns (\"Release_Year\" and \"Certificate\"). \n",
    "# You may want to look up this movie on www.imdb.com. \n",
    "# Hint: You can set value for a particular set by: loc[row_name, column_name] = new_value\n",
    "imdb.loc[966,'Released_Year'] = 1995\n",
    "imdb.loc[966,'Certificate'] = 'PG'\n",
    "imdb.loc[966]"
   ]
  },
  {
   "cell_type": "code",
   "execution_count": null,
   "metadata": {},
   "outputs": [],
   "source": [
    "# Change \"Released_Year\" from string to int\n",
    "imdb['Released_Year'] = imdb['Released_Year'].apply(int)\n",
    "imdb['Released_Year'].dtype"
   ]
  },
  {
   "cell_type": "code",
   "execution_count": null,
   "metadata": {},
   "outputs": [],
   "source": [
    "# Create a new dataframe called \"stars\" including the following columns: \n",
    "# Series_Title, Released_Year, Star1, Star2, Star3, Star4\n",
    "stars = imdb[['Series_Title', 'Released_Year', 'Star1', 'Star2', 'Star3', 'Star4']]\n",
    "stars"
   ]
  },
  {
   "cell_type": "code",
   "execution_count": null,
   "metadata": {},
   "outputs": [],
   "source": [
    "# Create a new dataframe called \"genres\" including the following columns: \n",
    "# Series_Title, Released_Year, Genre.\n",
    "genres = imdb[['Series_Title', 'Released_Year', 'Genre']]\n",
    "genres"
   ]
  },
  {
   "cell_type": "code",
   "execution_count": null,
   "metadata": {},
   "outputs": [],
   "source": [
    "# Select all movies released after (>=) 2010 and with IMDB_Rating>=8.5\n",
    "# Show their title, released year, Certificate, and gross.\n",
    "# Sort them in descending order of \"Gross\"\n",
    "(\n",
    "    imdb[(imdb.Released_Year>=2010) & (imdb.IMDB_Rating>=8.5)]\n",
    "    [['Series_Title','Released_Year','Certificate','Gross']]\n",
    "    .sort_values('Gross', ascending=False)\n",
    ")"
   ]
  },
  {
   "cell_type": "code",
   "execution_count": null,
   "metadata": {},
   "outputs": [],
   "source": [
    "# Does the sorting result looks right to you? What's the problem? \n",
    "\n",
    "# Answer: Gross is a string type. "
   ]
  },
  {
   "cell_type": "code",
   "execution_count": null,
   "metadata": {},
   "outputs": [],
   "source": [
    "# Resolve this problem of \"Gross\" and convert its data type to float\n",
    "# Hint: You may find this webpage useful: \n",
    "# https://stackoverflow.com/questions/28986489/how-to-replace-text-in-a-column-of-a-pandas-dataframe\n",
    "\n",
    "imdb['Gross'] = imdb['Gross'].apply(str).str.replace(',','').apply(float)\n",
    "imdb['Gross']"
   ]
  },
  {
   "cell_type": "code",
   "execution_count": null,
   "metadata": {},
   "outputs": [],
   "source": [
    "# Next, redo the sorting on Gross\n",
    "\n",
    "# Select all movies released after (>=) 2010 and with IMDB_Rating>=8.5\n",
    "# Show their title, released year, Certificate, and gross.\n",
    "# Sort them in descending order of \"Gross\"\n",
    "(\n",
    "    imdb[(imdb.Released_Year>=2010) & (imdb.IMDB_Rating>=8.5)]\n",
    "    [['Series_Title','Released_Year','Certificate','Gross']]\n",
    "    .sort_values('Gross', ascending=False)\n",
    ")"
   ]
  },
  {
   "cell_type": "code",
   "execution_count": null,
   "metadata": {},
   "outputs": [],
   "source": [
    "# Add a new column \"Runtime_min\" by removing the string ' min\" in \"Runtime\"\n",
    "# Set its data type as int\n",
    "\n",
    "imdb['Runtime_min'] = imdb['Runtime'].str[:-4].astype(int)\n",
    "imdb['Runtime_min']"
   ]
  },
  {
   "cell_type": "code",
   "execution_count": null,
   "metadata": {},
   "outputs": [],
   "source": [
    "# Add a new column \"Decade\" with values as 1980, 1990, 2000, 2010, 2020, etc. \n",
    "imdb['Decade'] = imdb['Released_Year'] // 10 * 10\n",
    "imdb['Decade']"
   ]
  },
  {
   "cell_type": "markdown",
   "metadata": {},
   "source": [
    "## Part 2: Data Summarization\n",
    "Done! \n",
    "\n",
    "## Part 3: Data Visualization\n",
    "Done! \n",
    "\n",
    "## Part 4: Tidy Data\n",
    "\n",
    "After running all cells above, you should have three dataframes: \n",
    "- **imdb**\n",
    "- **stars**\n",
    "- **genres**\n",
    "\n",
    "Now, let's take a quick look at the three dataframes. "
   ]
  },
  {
   "cell_type": "code",
   "execution_count": null,
   "metadata": {},
   "outputs": [],
   "source": [
    "print(imdb.columns)\n",
    "imdb.head()"
   ]
  },
  {
   "cell_type": "code",
   "execution_count": null,
   "metadata": {},
   "outputs": [],
   "source": [
    "print(stars.columns)\n",
    "stars.head()"
   ]
  },
  {
   "cell_type": "code",
   "execution_count": null,
   "metadata": {},
   "outputs": [],
   "source": [
    "print(genres.columns)\n",
    "genres.head()"
   ]
  },
  {
   "cell_type": "markdown",
   "metadata": {},
   "source": [
    "Follow the instructions below and write your code to answer the questions: \n",
    "\n",
    "To better understand the advantages of tidy data, you will first use the \"un-tidy\" dataframes alone to answer the next few questions: "
   ]
  },
  {
   "cell_type": "code",
   "execution_count": null,
   "metadata": {},
   "outputs": [],
   "source": [
    "# In dataframe \"stars\", find all movies that star \"Morgan Freeman\". \n",
    "# Hint: he could be Star1, Star2, Star3, or Star4. \n"
   ]
  },
  {
   "cell_type": "code",
   "execution_count": null,
   "metadata": {},
   "outputs": [],
   "source": [
    "# In dataframe 'stars', who appeared in Star2 the most times? List the top five actors.\n"
   ]
  },
  {
   "cell_type": "code",
   "execution_count": null,
   "metadata": {},
   "outputs": [],
   "source": [
    "# In dataframe 'imdb', find all comedies and list Series_Title, Released_Year, Director, and IMDB_Rating\n",
    "# Sort them by Resleased_Year in desceding order. \n",
    "# Hint: use .str.contains(...) \n"
   ]
  },
  {
   "cell_type": "code",
   "execution_count": null,
   "metadata": {},
   "outputs": [],
   "source": [
    "# In dataframe 'imdb', find all values in the Genre column and the number of occurrences for each value. \n",
    "# Hint: use value_counts()\n"
   ]
  },
  {
   "cell_type": "markdown",
   "metadata": {},
   "source": [
    "### Tidying the data\n",
    "\n",
    "Next, you will further tidy the two dataframes **stars** and **genres**. \n",
    "\n",
    "Let's start with **stars**."
   ]
  },
  {
   "cell_type": "code",
   "execution_count": null,
   "metadata": {
    "scrolled": true
   },
   "outputs": [],
   "source": [
    "# Tranform the dataframe \"stars\" to a new dataframe named \"stars_long\" with the following four columns: \n",
    "# Series_Title, Released_Year, StarNo (e.g., Star1, Star2, ...), StarName\n",
    "# Hint: use melt()\n",
    "stars_long = stars.melt(...)\n",
    "stars_long"
   ]
  },
  {
   "cell_type": "code",
   "execution_count": null,
   "metadata": {},
   "outputs": [],
   "source": [
    "# Can you transform dataframe 'stars_long' back to its original shape? \n",
    "# Hint: use pivot()\n",
    "stars_long.pivot(...)"
   ]
  },
  {
   "cell_type": "code",
   "execution_count": null,
   "metadata": {},
   "outputs": [],
   "source": [
    "# In dataframe \"stars_long\", find all movies that star \"Morgan Freeman\". \n"
   ]
  },
  {
   "cell_type": "code",
   "execution_count": null,
   "metadata": {},
   "outputs": [],
   "source": [
    "# Who were the Star2 the most times? List the top five actors.\n"
   ]
  },
  {
   "cell_type": "code",
   "execution_count": null,
   "metadata": {},
   "outputs": [],
   "source": [
    "# Who star in the most movies in this list? List the top 20 actors.\n"
   ]
  },
  {
   "cell_type": "code",
   "execution_count": null,
   "metadata": {},
   "outputs": [],
   "source": [
    "# Which movie stars had the highest total gross in this movie list? Show the top 10 actors. \n",
    "# Hint: Join \"stars_long\" and \"imdb\"; then group by StarName\n"
   ]
  },
  {
   "cell_type": "code",
   "execution_count": null,
   "metadata": {},
   "outputs": [],
   "source": [
    "# Find the best director-actor duos \n",
    "# i.e., director-actor pairs that collaborated in at least five movies, \n",
    "# sort them in descending order of average IMDB_Rating\n",
    "# Hint: Join imdb and stars_long; group by ['Director','StarName']\n"
   ]
  },
  {
   "cell_type": "code",
   "execution_count": null,
   "metadata": {},
   "outputs": [],
   "source": [
    "# Bonus question\n",
    "# Who did \"Amy Adams\" co-star with in this movie list? \n",
    "# Hint: Join stars_long with itself to find pairs of co-stars\n"
   ]
  },
  {
   "cell_type": "markdown",
   "metadata": {},
   "source": [
    "Next, let's reshape the dataframe **genres**, which is a little bit more complicated. "
   ]
  },
  {
   "cell_type": "code",
   "execution_count": null,
   "metadata": {},
   "outputs": [],
   "source": [
    "# Step 1: Split the 'Genre' string by ', ' into a list of individual genres and expand them to different columns\n",
    "genres_split = ...\n",
    "genres_split"
   ]
  },
  {
   "cell_type": "code",
   "execution_count": null,
   "metadata": {},
   "outputs": [],
   "source": [
    "# Step 2: Rename the columns as: Genre1, Genre2, Genre3\n"
   ]
  },
  {
   "cell_type": "code",
   "execution_count": null,
   "metadata": {},
   "outputs": [],
   "source": [
    "# Step 3: Combine ['Series_Title','Released_Year'] in 'genres' and ['Genre1','Genre2','Genre3'] in 'genres_split'. \n",
    "# Save it to a new dataframe named 'genres_wide'.     \n",
    "# Hint: Use pd.concat(...)\n",
    "genres_wide = pd.concat(...)\n",
    "genres_wide"
   ]
  },
  {
   "cell_type": "code",
   "execution_count": null,
   "metadata": {},
   "outputs": [],
   "source": [
    "# Step 4: Transform genres_wide to a new dataframe genres_long with the following four columns: \n",
    "# Series_Title, Released_Year, GenreNo (e.g., Genre1, Genre2, Genre2), GenreName\n",
    "# Hint: use melt()\n",
    "genres_long = genres_wide.melt(...)\n",
    "genres_long"
   ]
  },
  {
   "cell_type": "code",
   "execution_count": null,
   "metadata": {},
   "outputs": [],
   "source": [
    "# How many unique genres (atomic values, e.g., Drama, Comedy, ...) are there? \n",
    "# How many movies are there for each genre? \n"
   ]
  },
  {
   "cell_type": "code",
   "execution_count": null,
   "metadata": {},
   "outputs": [],
   "source": [
    "# What is the average IMDB rating for each genre? \n",
    "# Sort the genres in descending order of average IMDB_Rating. \n",
    "# Hint: join imdb with genres_long; group by GenreName\n"
   ]
  },
  {
   "cell_type": "code",
   "execution_count": null,
   "metadata": {},
   "outputs": [],
   "source": [
    "# Who is the \"King of Comedy\" (i.e., the actor who starred in the most comedy movies)?\n",
    "# Hint: find all comedies in genres_long ; join with stars_long; group by StarName\n"
   ]
  },
  {
   "cell_type": "code",
   "execution_count": null,
   "metadata": {},
   "outputs": [],
   "source": [
    "# Bonus Question: \n",
    "# Who are the best action stars? \n",
    "# i.e., the actors who stars in at least 5 action movies, sorted by average IMDB rating in descending order \n",
    "# Hint: You need to join columns from all three dataframes: imdb, stars_long, genres_long\n"
   ]
  },
  {
   "cell_type": "code",
   "execution_count": null,
   "metadata": {},
   "outputs": [],
   "source": [
    "# Bonus Question: \n",
    "# Create a pivot table to show the number of movies of different genres in different decades. \n",
    "# Row: GenreName\n",
    "# Column: Decade\n",
    "# Hint: https://pandas.pydata.org/docs/reference/api/pandas.pivot_table.html\n"
   ]
  }
 ],
 "metadata": {
  "kernelspec": {
   "display_name": "Python 3 (ipykernel)",
   "language": "python",
   "name": "python3"
  },
  "language_info": {
   "codemirror_mode": {
    "name": "ipython",
    "version": 3
   },
   "file_extension": ".py",
   "mimetype": "text/x-python",
   "name": "python",
   "nbconvert_exporter": "python",
   "pygments_lexer": "ipython3",
   "version": "3.11.5"
  }
 },
 "nbformat": 4,
 "nbformat_minor": 4
}
