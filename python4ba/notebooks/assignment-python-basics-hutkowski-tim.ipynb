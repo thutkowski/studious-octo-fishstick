{
 "cells": [
  {
   "cell_type": "markdown",
   "metadata": {},
   "source": [
    "# Assignment: Python Basics\n",
    "We assume you are using Python 3 in this course."
   ]
  },
  {
   "cell_type": "markdown",
   "metadata": {},
   "source": [
    "## Question 1\n",
    "\n",
    "You've learned different data types in Python. Now, let's test your knowledge. \n",
    "\n",
    "You need to use to format strings. \n",
    "\n",
    "Write a program using the \"f-strings\" (https://realpython.com/python-f-strings/) and user input function to convert temperatures from Fahrenheit to Celsius. [Formula: Celsius = (Fahrenheit – 32)*5/9]\n",
    "\n",
    "Hint: you may need int() or float() function\n",
    "\n",
    "An example program output:\n",
    "```\n",
    "Please enter the temperature in Fahrenheit: 140\n",
    "140F is 60.0 in Celsius. \n",
    "```"
   ]
  },
  {
   "cell_type": "code",
   "execution_count": 3,
   "metadata": {},
   "outputs": [
    {
     "name": "stdout",
     "output_type": "stream",
     "text": [
      "Please input the temperature in Celsius 50\n",
      "50.0C is 122.0 in Fahrenheit\n"
     ]
    }
   ],
   "source": [
    "# complete your program here\n",
    "c = input ('Please input the temperature in Celsius ')\n",
    "\n",
    "c = float(c)\n",
    "\n",
    "f = 9/5 * c + 32\n",
    "\n",
    "print(f'{c}C is {f} in Fahrenheit')"
   ]
  },
  {
   "cell_type": "code",
   "execution_count": 1,
   "metadata": {},
   "outputs": [
    {
     "name": "stdout",
     "output_type": "stream",
     "text": [
      "What's your name? Tim\n",
      "Welcome, Tim!\n"
     ]
    }
   ],
   "source": [
    "# an example of f-strings and user input function\n",
    "username = input('What\\'s your name? ')\n",
    "print(f'Welcome, {username}!')"
   ]
  },
  {
   "cell_type": "code",
   "execution_count": 2,
   "metadata": {},
   "outputs": [
    {
     "name": "stdout",
     "output_type": "stream",
     "text": [
      "Please enter the temperature in Fahrenheit: 50\n",
      "50.0F is 10.0 in Celsius. \n",
      "50.0F is 10.0 in Celsius. \n"
     ]
    }
   ],
   "source": [
    "# complete your program here\n",
    "f = input('Please enter the temperature in Fahrenheit: ')\n",
    "\n",
    "#print(f)\n",
    "f = float(f)\n",
    "#print(f)\n",
    "\n",
    "#Celsius = (Fahrenheit – 32)*5/9\n",
    "c = (f - 32) * 5/9\n",
    "\n",
    "print(f'{f}F is {c} in Celsius. ')\n",
    "print(str(f)+'F is '+str(c)+' in Celsius. ')"
   ]
  },
  {
   "cell_type": "markdown",
   "metadata": {},
   "source": [
    "Now, do the oppsoite by convert temperatures from Celsius to Fahrenheit.\n",
    "Another example:\n",
    "```\n",
    "Please enter the temperature in Celcius: 60\n",
    "60C is 140.0 in Fahrenheit. \n",
    "```"
   ]
  },
  {
   "cell_type": "markdown",
   "metadata": {},
   "source": [
    "Next, let's make it a bit challenging by adding conditional statements to convert temperatures to and from Celsius, Fahrenheit. [Formula: Celsius/5 = (Fahrenheit – 32)/9]\n",
    "\n",
    "An example program output:\n",
    "```\n",
    "Please enter the temperature: 60\n",
    "Is this in Celsius or Fahrenheit? C\n",
    "60C is 140 in Fahrenheit\n",
    "```\n",
    "\n",
    "Another example:\n",
    "```\n",
    "Please enter the temperature: 140\n",
    "Is this Celsius or Fahrenheit? F\n",
    "140F is 60 in Celsius\n",
    "```"
   ]
  },
  {
   "cell_type": "code",
   "execution_count": 4,
   "metadata": {},
   "outputs": [
    {
     "name": "stdout",
     "output_type": "stream",
     "text": [
      "Please enter the temperature: 50\n",
      "Is this in Celsius or Fahrenheit? F\n",
      "50.0F is 10.0 in Fahrenheit\n"
     ]
    }
   ],
   "source": [
    "# complete your program here\n",
    "d = input('Please enter the temperature: ')\n",
    "m = input('Is this in Celsius or Fahrenheit? ')\n",
    "d=float(d)\n",
    "if m == 'C':\n",
    "    c= (9/5*d)+32\n",
    "    print(f'{d}C is {c} in Celsius')\n",
    "if m == 'F':\n",
    "    f = (d-32)*5/9\n",
    "    print(f'{d}F is {f} in Fahrenheit')\n",
    "else:\n",
    "    print('Please enter valid temperature type')"
   ]
  },
  {
   "cell_type": "markdown",
   "metadata": {},
   "source": [
    "## Question 2\n",
    "\n",
    "Have some fun with strings."
   ]
  },
  {
   "cell_type": "code",
   "execution_count": 5,
   "metadata": {},
   "outputs": [],
   "source": [
    "sentence = \"Talk is cheap. Show me the code - Linus Torvalds\""
   ]
  },
  {
   "cell_type": "code",
   "execution_count": 6,
   "metadata": {},
   "outputs": [
    {
     "data": {
      "text/plain": [
       "48"
      ]
     },
     "execution_count": 6,
     "metadata": {},
     "output_type": "execute_result"
    }
   ],
   "source": [
    "# Find the length of this sentence.\n",
    "len(sentence)"
   ]
  },
  {
   "cell_type": "code",
   "execution_count": 7,
   "metadata": {},
   "outputs": [
    {
     "name": "stdout",
     "output_type": "stream",
     "text": [
      "talk is cheap. show me the code - linus torvalds\n"
     ]
    }
   ],
   "source": [
    "# Convert the whole string to lower case. \n",
    "print(sentence.lower())"
   ]
  },
  {
   "cell_type": "code",
   "execution_count": 8,
   "metadata": {},
   "outputs": [
    {
     "name": "stdout",
     "output_type": "stream",
     "text": [
      "heap. Show me the code - Lin\n"
     ]
    }
   ],
   "source": [
    "# Extract a substring from the 10th character from left to the 10th character from right.\n",
    "print(sentence[9:37])"
   ]
  },
  {
   "cell_type": "code",
   "execution_count": 9,
   "metadata": {},
   "outputs": [
    {
     "name": "stdout",
     "output_type": "stream",
     "text": [
      "['Talk', 'is', 'cheap.', 'Show', 'me', 'the', 'code', '-', 'Linus', 'Torvalds']\n"
     ]
    }
   ],
   "source": [
    "# Split the sentence into a list of substrings by space ' '. \n",
    "list=sentence.split()\n",
    "print(list)"
   ]
  },
  {
   "cell_type": "code",
   "execution_count": 10,
   "metadata": {},
   "outputs": [
    {
     "name": "stdout",
     "output_type": "stream",
     "text": [
      "['talk', 'is', 'cheap', 'show', 'me', 'the', 'code', 'linus', 'torvalds']\n"
     ]
    }
   ],
   "source": [
    "# Given the sentence, output a list of words in lowercase (without punctuations). \n",
    "sentence=sentence.lower()\n",
    "list=sentence.split()\n",
    "list[2]='cheap'\n",
    "list.remove('-')\n",
    "\n",
    "print(list)"
   ]
  },
  {
   "cell_type": "code",
   "execution_count": 11,
   "metadata": {},
   "outputs": [
    {
     "name": "stdout",
     "output_type": "stream",
     "text": [
      "13\n"
     ]
    }
   ],
   "source": [
    "# Count the total number of vowels in the sentence.\n",
    "\n",
    "vowels = ['a','e','i','o','u']\n",
    "\n",
    "count= 0\n",
    "for char in sentence:\n",
    "    if char in vowels:\n",
    "        count += 1\n",
    "\n",
    "print(count)\n",
    "\n"
   ]
  },
  {
   "cell_type": "code",
   "execution_count": 12,
   "metadata": {},
   "outputs": [
    {
     "name": "stdout",
     "output_type": "stream",
     "text": [
      "1\n",
      "5\n",
      "10\n",
      "11\n",
      "17\n",
      "21\n",
      "25\n",
      "28\n",
      "30\n",
      "35\n",
      "37\n",
      "41\n",
      "44\n"
     ]
    }
   ],
   "source": [
    "# Find the positions (indexes) of all vowels in the sentence. \n",
    "for i in range(len(sentence)):\n",
    "    \n",
    "    if sentence[i] in vowels:\n",
    "        print(i)\n",
    "    "
   ]
  },
  {
   "cell_type": "markdown",
   "metadata": {},
   "source": [
    "## Question 3\n",
    "\n",
    "Review list comprehension if needed: https://realpython.com/list-comprehension-python/\n",
    "\n",
    "The formula for list comprehension is: `new_list = [expression for member in iterable (if conditional)]`\n",
    "\n",
    "You need to do the following:"
   ]
  },
  {
   "cell_type": "code",
   "execution_count": 13,
   "metadata": {},
   "outputs": [
    {
     "name": "stdout",
     "output_type": "stream",
     "text": [
      "[0, 1, 8, 27, 64]\n"
     ]
    }
   ],
   "source": [
    "# Use a loop to create a list of 5 cube numbers and print the list：[0, 1, 8, 27, 64]\n",
    "\n",
    "cubes=[]\n",
    "for i in range(5):\n",
    "    cubes.append(i*i*i)\n",
    "print(cubes)\n",
    "\n"
   ]
  },
  {
   "cell_type": "code",
   "execution_count": 14,
   "metadata": {},
   "outputs": [
    {
     "data": {
      "text/plain": [
       "[0, 1, 8, 27, 64]"
      ]
     },
     "execution_count": 14,
     "metadata": {},
     "output_type": "execute_result"
    }
   ],
   "source": [
    "# Use list comprehension to create the same list\n",
    "cubes = [i*i*i for i in range(5)]\n",
    "cubes\n"
   ]
  },
  {
   "cell_type": "code",
   "execution_count": 15,
   "metadata": {},
   "outputs": [
    {
     "data": {
      "text/plain": [
       "[1, 3, 9, 11, 14, 15, 17, 22, 25, 28, 31, 35, 38, 41, 45, 47]"
      ]
     },
     "execution_count": 15,
     "metadata": {},
     "output_type": "execute_result"
    }
   ],
   "source": [
    "# Find the postions (indexes) of all vowels in a sentence using list comprehension\n",
    "sentence = \"Toto, I\\'ve a feeling we\\'re not in Kansas anymore. - THE WIZARD OF OZ (1939)\"\n",
    "\n",
    "vowels = [i for i in range(len(sentence.lower())) if sentence[i] in 'aeiou']\n",
    "vowels"
   ]
  },
  {
   "cell_type": "code",
   "execution_count": 16,
   "metadata": {},
   "outputs": [
    {
     "name": "stdout",
     "output_type": "stream",
     "text": [
      "How many numbers do you want? 10\n"
     ]
    },
    {
     "data": {
      "text/plain": [
       "[0, 1, 1, 2, 3, 5, 8, 13, 21, 34]"
      ]
     },
     "execution_count": 16,
     "metadata": {},
     "output_type": "execute_result"
    }
   ],
   "source": [
    "\n",
    "# Use a loop to create a list of first n numbers in the Fibonacci sequence\n",
    "# [0, 1, 1, 2, 3, 5, 8, ...] \n",
    "fibonacci = []\n",
    "n = input('How many numbers do you want? ')\n",
    "# add your code here\n",
    "n = int(n)\n",
    "\n",
    "if n == 1:\n",
    "    fibonacci = [0]\n",
    "elif n == 2:\n",
    "    fibonacci = [0, 1]\n",
    "else: \n",
    "    fibonacci = [0, 1]\n",
    "    for i in range(2, n):\n",
    "       \n",
    "        fibonacci.append(fibonacci[i-1]+fibonacci[i-2])\n",
    "        \n",
    "fibonacci\n"
   ]
  },
  {
   "cell_type": "markdown",
   "metadata": {},
   "source": [
    "## Question 4\n",
    "\n",
    "This question is about Python dictionary.\n",
    "\n",
    "|Vaccine|Efficacy|\n",
    "|-----|-------|\n",
    "|Pfizer|95%|\n",
    "|Moderna|95%|\n",
    "|AstraZeneca|72%|\n",
    "|Johnson & Johnson|66%|\n",
    "\n",
    "Source: https://www.biospace.com/article/comparing-covid-19-vaccines-pfizer-biontech-moderna-astrazeneca-oxford-j-and-j-russia-s-sputnik-v/"
   ]
  },
  {
   "cell_type": "code",
   "execution_count": 17,
   "metadata": {},
   "outputs": [],
   "source": [
    "# Create a dictionary to save the data of vaccines and their efficacy. (save 95% as 0.95)\n",
    "v_dict = {'Pfizer': .95,'Moderna': .95, 'AstraZeneaca': .72 , 'Johnson & Johnson': .66}"
   ]
  },
  {
   "cell_type": "code",
   "execution_count": 18,
   "metadata": {},
   "outputs": [
    {
     "name": "stdout",
     "output_type": "stream",
     "text": [
      "Which vaccine? Moderna\n",
      "0.95\n"
     ]
    }
   ],
   "source": [
    "v = input('Which vaccine? ')\n",
    "# print the efficacy of the vaccine\n",
    "print(v_dict[v])"
   ]
  },
  {
   "cell_type": "code",
   "execution_count": 19,
   "metadata": {},
   "outputs": [
    {
     "data": {
      "text/plain": [
       "{'Pfizer': 0.95,\n",
       " 'Moderna': 0.95,\n",
       " 'AstraZeneaca': 0.72,\n",
       " 'Johnson & Johnson': 0.66,\n",
       " 'Sputnik V': 0.914}"
      ]
     },
     "execution_count": 19,
     "metadata": {},
     "output_type": "execute_result"
    }
   ],
   "source": [
    "# add another vaccine 'Sputnik V' with 91.4% efficacy rate to the dictionary\n",
    "\n",
    "v_dict.update({'Sputnik V': .914})\n",
    "v_dict"
   ]
  },
  {
   "cell_type": "code",
   "execution_count": 20,
   "metadata": {},
   "outputs": [],
   "source": [
    "# add another vaccine 'Sinovac' with 50.38% efficacy rate to the dictionary\n",
    "v_dict.update({'Sinovac': .5038})"
   ]
  },
  {
   "cell_type": "code",
   "execution_count": 21,
   "metadata": {},
   "outputs": [
    {
     "name": "stdout",
     "output_type": "stream",
     "text": [
      "0.72\n",
      "0.66\n",
      "0.5038\n"
     ]
    }
   ],
   "source": [
    "# Print vaccines with efficacy lower than 90%.\n",
    "for i in v_dict:\n",
    "    if v_dict[i] < .90:\n",
    "        print(v_dict[i])"
   ]
  },
  {
   "cell_type": "code",
   "execution_count": 22,
   "metadata": {},
   "outputs": [],
   "source": [
    "# delete the Sinovac vaccine from the dictionary. \n",
    "del v_dict['Sinovac']\n"
   ]
  },
  {
   "cell_type": "code",
   "execution_count": 23,
   "metadata": {},
   "outputs": [
    {
     "name": "stdout",
     "output_type": "stream",
     "text": [
      "1\n",
      "{'a': 1, 'b': 1, 'c': 1, 'd': 1, 'e': 3, 'f': 1, 'g': 1, 'h': 2, 'i': 1, 'j': 1, 'k': 1, 'l': 1, 'm': 1, 'n': 1, 'o': 4, 'p': 1, 'q': 1, 'r': 2, 's': 1, 't': 2, 'u': 2, 'v': 1, 'w': 1, 'x': 1, 'y': 1, 'z': 1}\n"
     ]
    }
   ],
   "source": [
    "#Count the occurrence of each alphabet (no space ' ') in this sentence. \n",
    "sentence = 'the quick brown fox jumps over the lazy dog'\n",
    "alpha=\"abcdefghijklmnopqrstuvwxyz\"\n",
    "\n",
    "# Save the result in a dictionary \n",
    "ch_dict = {} \n",
    "# Use a loop to iterate all characters\n",
    "# add your code here\n",
    "for i in alpha:\n",
    "    count=0\n",
    "    for char in sentence:\n",
    "        if char==i:\n",
    "            count += 1\n",
    "    ch_dict.update({i:count})\n",
    "\n",
    "print(count)\n",
    "# print the dictionary\n",
    "print(ch_dict)"
   ]
  },
  {
   "cell_type": "markdown",
   "metadata": {},
   "source": [
    "## Quesion 5\n",
    "\n",
    "Next, we will practice with Numpy arrays.  "
   ]
  },
  {
   "cell_type": "code",
   "execution_count": 24,
   "metadata": {},
   "outputs": [],
   "source": [
    "import numpy as np"
   ]
  },
  {
   "cell_type": "code",
   "execution_count": 25,
   "metadata": {},
   "outputs": [
    {
     "data": {
      "text/plain": [
       "array([ 2,  4,  6,  8, 10, 12, 14, 16, 18, 20, 22, 24, 26, 28, 30, 32, 34,\n",
       "       36, 38, 40])"
      ]
     },
     "execution_count": 25,
     "metadata": {},
     "output_type": "execute_result"
    }
   ],
   "source": [
    "# create a 1-D array of first 20 positive even numbers (starting with 2)\n",
    "\n",
    "d= np.array([2*i for i in range(1,21) ])\n",
    "d"
   ]
  },
  {
   "cell_type": "code",
   "execution_count": 26,
   "metadata": {},
   "outputs": [
    {
     "data": {
      "text/plain": [
       "array([ 1,  3,  5,  7,  9, 11, 13, 15, 17, 19, 21, 23, 25, 27, 29, 31, 33,\n",
       "       35, 37, 39])"
      ]
     },
     "execution_count": 26,
     "metadata": {},
     "output_type": "execute_result"
    }
   ],
   "source": [
    "# create a 1-D array of first 20 positive odd numbers (starting with 1)\n",
    "d= np.array([2*i-1 for i in range(1,21) ])\n",
    "d"
   ]
  },
  {
   "cell_type": "code",
   "execution_count": 27,
   "metadata": {},
   "outputs": [
    {
     "data": {
      "text/plain": [
       "array([[[ 0,  1,  2,  3,  4,  5,  6,  7,  8,  9]],\n",
       "\n",
       "       [[10, 11, 12, 13, 14, 15, 16, 17, 18, 19]],\n",
       "\n",
       "       [[20, 21, 22, 23, 24, 25, 26, 27, 28, 29]],\n",
       "\n",
       "       [[30, 31, 32, 33, 34, 35, 36, 37, 38, 39]],\n",
       "\n",
       "       [[40, 41, 42, 43, 44, 45, 46, 47, 48, 49]],\n",
       "\n",
       "       [[50, 51, 52, 53, 54, 55, 56, 57, 58, 59]],\n",
       "\n",
       "       [[60, 61, 62, 63, 64, 65, 66, 67, 68, 69]],\n",
       "\n",
       "       [[70, 71, 72, 73, 74, 75, 76, 77, 78, 79]],\n",
       "\n",
       "       [[80, 81, 82, 83, 84, 85, 86, 87, 88, 89]],\n",
       "\n",
       "       [[90, 91, 92, 93, 94, 95, 96, 97, 98, 99]]])"
      ]
     },
     "execution_count": 27,
     "metadata": {},
     "output_type": "execute_result"
    }
   ],
   "source": [
    "# create a 10x10 array in the following format: \n",
    "# first row: [0,1,...,9]\n",
    "# second row: [10,11,...,19]\n",
    "# ...\n",
    "# tenth row: [90,91,...,99]\n",
    "row=[i for i in range(0,100)]\n",
    "r1=row[0:10]\n",
    "r2=row[10:20]\n",
    "r3=row[20:30]\n",
    "r4=row[30:40]\n",
    "r5=row[40:50]\n",
    "r6=row[50:60]\n",
    "r7=row[60:70]\n",
    "r8=row[70:80]\n",
    "r9=row[80:90]\n",
    "r10=row[90:100]\n",
    "ls=[[r1],[r2],[r3],[r4],[r5],[r6],[r7],[r8],[r9],[r10]]\n",
    "\n",
    "array=np.array(ls)\n",
    "array\n"
   ]
  },
  {
   "cell_type": "code",
   "execution_count": 28,
   "metadata": {},
   "outputs": [
    {
     "data": {
      "text/plain": [
       "array([[-6.78685602e-01, -1.21985902e+00,  4.49574903e-01,\n",
       "         7.93252790e-01, -2.66241623e+00, -9.38503853e-01,\n",
       "         8.28062670e-01,  1.46275432e-01,  2.37419703e+00,\n",
       "         2.72153393e-01],\n",
       "       [-9.69751401e-01,  1.06833907e+00, -9.40050989e-04,\n",
       "         1.21817838e+00, -1.51238773e+00,  8.87380227e-01,\n",
       "        -9.92196621e-01, -1.34883667e-01, -3.24802841e-02,\n",
       "         2.40416764e-01],\n",
       "       [ 1.25351923e+00, -3.16359189e-01, -1.37634002e+00,\n",
       "         1.73938473e+00, -2.59710630e-01,  3.72241725e-01,\n",
       "         1.13900505e+00,  7.43615442e-01,  9.06275822e-01,\n",
       "         2.78426871e-01],\n",
       "       [ 3.01250238e+00, -6.30633817e-02, -3.14950936e-01,\n",
       "         7.04472007e-01, -1.05222847e+00, -1.79215123e-01,\n",
       "         2.01088219e+00,  6.79837261e-01,  1.19778391e+00,\n",
       "        -1.55847459e+00],\n",
       "       [ 2.11087719e-01, -3.73577344e-01,  6.80223929e-01,\n",
       "         2.06568636e+00,  3.54058177e-01,  6.59630984e-01,\n",
       "        -2.23034523e-01,  1.13350365e+00,  3.92028423e-02,\n",
       "         3.71205063e-01],\n",
       "       [-1.27701222e+00, -1.45211036e+00,  3.02004503e-02,\n",
       "         4.54040667e-01, -7.34246090e-01,  1.49900932e-01,\n",
       "        -3.61444199e-01,  1.04627576e-01, -5.09172552e-01,\n",
       "         8.98822753e-01],\n",
       "       [-2.01517273e+00,  6.80625039e-01, -1.43621917e+00,\n",
       "         1.66411425e+00,  3.17209234e-01,  2.23455969e+00,\n",
       "         3.08822218e-01,  5.02563479e-01,  1.01936953e+00,\n",
       "         1.87673720e-01],\n",
       "       [-1.28124128e-01, -3.83017917e-01,  7.85507016e-02,\n",
       "         1.23805565e+00,  8.89829334e-01,  6.36880089e-01,\n",
       "        -1.91540504e+00,  2.65863684e-01,  2.57885385e-01,\n",
       "         5.61458011e-02],\n",
       "       [-2.25740084e+00,  5.00278407e-01, -7.41162797e-02,\n",
       "        -1.89926243e-01, -1.25488026e+00, -1.59527640e-01,\n",
       "         8.14189964e-01, -6.75894339e-02, -1.70410539e+00,\n",
       "         1.37319861e+00],\n",
       "       [-7.03671160e-01, -3.27634473e-01,  4.55328645e-01,\n",
       "        -8.48012038e-01, -2.99488499e-01, -1.50308218e+00,\n",
       "         1.38522408e+00, -4.61029168e-01, -2.31096312e-01,\n",
       "         8.62799281e-02]])"
      ]
     },
     "execution_count": 28,
     "metadata": {},
     "output_type": "execute_result"
    }
   ],
   "source": [
    "# Create a 10x10 array of normally distributed random values\n",
    "# with mean 0 and standard deviation 1\n",
    "M = np.random.normal(0,1,(10,10))\n",
    "M.shape\n",
    "M"
   ]
  },
  {
   "cell_type": "code",
   "execution_count": 29,
   "metadata": {},
   "outputs": [
    {
     "data": {
      "text/plain": [
       "32"
      ]
     },
     "execution_count": 29,
     "metadata": {},
     "output_type": "execute_result"
    }
   ],
   "source": [
    "# Count the numbers in M with an absolute value greater than 1.\n",
    "count=0\n",
    "for x in M:\n",
    "    for y in x:\n",
    "        if abs(y) > 1:\n",
    "            count += 1\n",
    "count"
   ]
  },
  {
   "cell_type": "code",
   "execution_count": 30,
   "metadata": {},
   "outputs": [
    {
     "name": "stdout",
     "output_type": "stream",
     "text": [
      "Row count: 5\n",
      "Column count: 5\n"
     ]
    },
    {
     "data": {
      "text/plain": [
       "array([[15, 19, 11, 19, 11],\n",
       "       [10, 12, 18, 18, 13],\n",
       "       [16, 10, 18, 13, 13],\n",
       "       [19, 15, 18, 18, 16],\n",
       "       [16, 19, 11, 13, 17]])"
      ]
     },
     "execution_count": 30,
     "metadata": {},
     "output_type": "execute_result"
    }
   ],
   "source": [
    "# Reference: https://numpy.org/doc/stable/reference/random/generated/numpy.random.randint.html\n",
    "\n",
    "# Input the number of rows (input an integer >= 3)\n",
    "r = input('Row count: ')\n",
    "\n",
    "# Input the number of rows (input another integer >= 3)\n",
    "c = input('Column count: ')\n",
    "r=int(r)\n",
    "c=int(c)\n",
    "# Hint: you may want to use the function int().\n",
    "\n",
    "# Create a r x c array of random integers between 10 (inclusive) and 20 (exclusive).\n",
    "arr = np.random.randint(10,20,(r,c))\n",
    "arr"
   ]
  },
  {
   "cell_type": "code",
   "execution_count": 31,
   "metadata": {},
   "outputs": [
    {
     "name": "stdout",
     "output_type": "stream",
     "text": [
      "11\n"
     ]
    }
   ],
   "source": [
    "# output the element in the first row and the third column\n",
    "print(arr[0,2])"
   ]
  },
  {
   "cell_type": "code",
   "execution_count": 32,
   "metadata": {},
   "outputs": [
    {
     "data": {
      "text/plain": [
       "13"
      ]
     },
     "execution_count": 32,
     "metadata": {},
     "output_type": "execute_result"
    }
   ],
   "source": [
    "# output the element in the second row and the last column\n",
    "arr[1,c-1]"
   ]
  },
  {
   "cell_type": "code",
   "execution_count": 33,
   "metadata": {},
   "outputs": [
    {
     "data": {
      "text/plain": [
       "array([10, 12, 18, 18, 13])"
      ]
     },
     "execution_count": 33,
     "metadata": {},
     "output_type": "execute_result"
    }
   ],
   "source": [
    "# output the second row of the array\n",
    "arr[1,:]"
   ]
  },
  {
   "cell_type": "code",
   "execution_count": 34,
   "metadata": {},
   "outputs": [
    {
     "data": {
      "text/plain": [
       "array([19, 15, 18, 18, 16])"
      ]
     },
     "execution_count": 34,
     "metadata": {},
     "output_type": "execute_result"
    }
   ],
   "source": [
    "# output the second last row of the array\n",
    "arr[r-2,:]"
   ]
  },
  {
   "cell_type": "code",
   "execution_count": 35,
   "metadata": {},
   "outputs": [
    {
     "data": {
      "text/plain": [
       "array([19, 12, 10, 15, 19])"
      ]
     },
     "execution_count": 35,
     "metadata": {},
     "output_type": "execute_result"
    }
   ],
   "source": [
    "# output the second column of the array\n",
    "arr[:,1]"
   ]
  },
  {
   "cell_type": "code",
   "execution_count": 36,
   "metadata": {},
   "outputs": [
    {
     "data": {
      "text/plain": [
       "array([19, 18, 13, 18, 13])"
      ]
     },
     "execution_count": 36,
     "metadata": {},
     "output_type": "execute_result"
    }
   ],
   "source": [
    "# output the second last column of the array\n",
    "arr[:,c-2]"
   ]
  },
  {
   "cell_type": "code",
   "execution_count": 37,
   "metadata": {},
   "outputs": [
    {
     "data": {
      "text/plain": [
       "array([[15, 19, 11],\n",
       "       [10, 12, 18],\n",
       "       [16, 10, 18]])"
      ]
     },
     "execution_count": 37,
     "metadata": {},
     "output_type": "execute_result"
    }
   ],
   "source": [
    "# output the upper-left 3x3 sub-array\n",
    "\n",
    "arr[0:3,0:3]"
   ]
  },
  {
   "cell_type": "code",
   "execution_count": 38,
   "metadata": {},
   "outputs": [
    {
     "data": {
      "text/plain": [
       "array([[18, 13, 13],\n",
       "       [18, 18, 16],\n",
       "       [11, 13, 17]])"
      ]
     },
     "execution_count": 38,
     "metadata": {},
     "output_type": "execute_result"
    }
   ],
   "source": [
    "# output the bottom-left 3x3 sub-array\n",
    "arr[2:5,2:5]"
   ]
  },
  {
   "cell_type": "code",
   "execution_count": 39,
   "metadata": {},
   "outputs": [
    {
     "data": {
      "text/plain": [
       "array([[11, 19, 11],\n",
       "       [18, 18, 13],\n",
       "       [18, 13, 13]])"
      ]
     },
     "execution_count": 39,
     "metadata": {},
     "output_type": "execute_result"
    }
   ],
   "source": [
    "# output the upper-right 3x3 sub-array\n",
    "arr[0:3,2:5]"
   ]
  },
  {
   "cell_type": "code",
   "execution_count": 40,
   "metadata": {},
   "outputs": [
    {
     "data": {
      "text/plain": [
       "array([[16, 10, 18],\n",
       "       [19, 15, 18],\n",
       "       [16, 19, 11]])"
      ]
     },
     "execution_count": 40,
     "metadata": {},
     "output_type": "execute_result"
    }
   ],
   "source": [
    "# output the bottom-right 3x3 sub-array\n",
    "arr[2:5,0:3]"
   ]
  },
  {
   "cell_type": "code",
   "execution_count": 41,
   "metadata": {},
   "outputs": [
    {
     "data": {
      "text/plain": [
       "array([[ 1,  2,  3,  4,  5,  6,  7,  8,  9, 10],\n",
       "       [11, 12, 13, 14, 15, 16, 17, 18, 19, 20],\n",
       "       [21, 22, 23, 24, 25, 26, 27, 28, 29, 30],\n",
       "       [31, 32, 33, 34, 35, 36, 37, 38, 39, 40],\n",
       "       [41, 42, 43, 44, 45, 46, 47, 48, 49, 50]])"
      ]
     },
     "execution_count": 41,
     "metadata": {},
     "output_type": "execute_result"
    }
   ],
   "source": [
    "# Create a 1-D array from 1 to 50 (inclusive)\n",
    "A=[i for i in range(1,51)]\n",
    "A=np.array(A)\n",
    "A=A.reshape(5,10)\n",
    "A\n",
    "# Reshape A to a 5x10 array in the following format: \n",
    "# first row: [1,...,10]\n",
    "# second row: [11,...,20]\n",
    "# ...\n",
    "# fifth row: [41,...,50]\n"
   ]
  },
  {
   "cell_type": "code",
   "execution_count": 1,
   "metadata": {},
   "outputs": [
    {
     "ename": "NameError",
     "evalue": "name 'np' is not defined",
     "output_type": "error",
     "traceback": [
      "\u001b[1;31m---------------------------------------------------------------------------\u001b[0m",
      "\u001b[1;31mNameError\u001b[0m                                 Traceback (most recent call last)",
      "\u001b[1;32m~\\AppData\\Local\\Temp\\ipykernel_17640\\2482075486.py\u001b[0m in \u001b[0;36m<module>\u001b[1;34m\u001b[0m\n\u001b[0;32m      1\u001b[0m \u001b[1;31m# add a row [51,...,60] to A\u001b[0m\u001b[1;33m\u001b[0m\u001b[1;33m\u001b[0m\u001b[0m\n\u001b[0;32m      2\u001b[0m \u001b[0mB\u001b[0m\u001b[1;33m=\u001b[0m\u001b[1;33m[\u001b[0m\u001b[0mi\u001b[0m \u001b[1;32mfor\u001b[0m \u001b[0mi\u001b[0m \u001b[1;32min\u001b[0m \u001b[0mrange\u001b[0m\u001b[1;33m(\u001b[0m\u001b[1;36m51\u001b[0m\u001b[1;33m,\u001b[0m\u001b[1;36m61\u001b[0m\u001b[1;33m)\u001b[0m\u001b[1;33m]\u001b[0m\u001b[1;33m\u001b[0m\u001b[1;33m\u001b[0m\u001b[0m\n\u001b[1;32m----> 3\u001b[1;33m \u001b[0mB\u001b[0m\u001b[1;33m=\u001b[0m\u001b[0mnp\u001b[0m\u001b[1;33m.\u001b[0m\u001b[0marray\u001b[0m\u001b[1;33m(\u001b[0m\u001b[0mB\u001b[0m\u001b[1;33m)\u001b[0m\u001b[1;33m\u001b[0m\u001b[1;33m\u001b[0m\u001b[0m\n\u001b[0m\u001b[0;32m      4\u001b[0m \u001b[0mB\u001b[0m\u001b[1;33m=\u001b[0m\u001b[0mB\u001b[0m\u001b[1;33m.\u001b[0m\u001b[0mreshape\u001b[0m\u001b[1;33m(\u001b[0m\u001b[1;36m1\u001b[0m\u001b[1;33m,\u001b[0m\u001b[1;36m10\u001b[0m\u001b[1;33m)\u001b[0m\u001b[1;33m\u001b[0m\u001b[1;33m\u001b[0m\u001b[0m\n\u001b[0;32m      5\u001b[0m \u001b[0mB\u001b[0m\u001b[1;33m\u001b[0m\u001b[1;33m\u001b[0m\u001b[0m\n",
      "\u001b[1;31mNameError\u001b[0m: name 'np' is not defined"
     ]
    }
   ],
   "source": [
    "# add a row [51,...,60] to A\n",
    "B=[i for i in range(51,61)]\n",
    "B=np.array(B)\n",
    "B=B.reshape(1,10)\n",
    "B\n",
    "\n",
    "A=np.concatenate([A,B],axis=0)\n",
    "A"
   ]
  },
  {
   "cell_type": "code",
   "execution_count": 43,
   "metadata": {},
   "outputs": [
    {
     "data": {
      "text/plain": [
       "[array([[ 1,  2,  3,  4,  5,  6,  7,  8,  9, 10],\n",
       "        [11, 12, 13, 14, 15, 16, 17, 18, 19, 20],\n",
       "        [21, 22, 23, 24, 25, 26, 27, 28, 29, 30]]),\n",
       " array([[31, 32, 33, 34, 35, 36, 37, 38, 39, 40],\n",
       "        [41, 42, 43, 44, 45, 46, 47, 48, 49, 50],\n",
       "        [51, 52, 53, 54, 55, 56, 57, 58, 59, 60]])]"
      ]
     },
     "execution_count": 43,
     "metadata": {},
     "output_type": "execute_result"
    }
   ],
   "source": [
    "# split the new A (6x10) to two 3x10 arrays A1 and A2\n",
    "np.split(A,2)"
   ]
  },
  {
   "cell_type": "code",
   "execution_count": 44,
   "metadata": {},
   "outputs": [
    {
     "data": {
      "text/plain": [
       "array([[11, 12, 13, 14, 15, 16, 17, 18, 19, 20],\n",
       "       [21, 22, 23, 24, 25, 26, 27, 28, 29, 30],\n",
       "       [31, 32, 33, 34, 35, 36, 37, 38, 39, 40],\n",
       "       [41, 42, 43, 44, 45, 46, 47, 48, 49, 50],\n",
       "       [51, 52, 53, 54, 55, 56, 57, 58, 59, 60],\n",
       "       [61, 62, 63, 64, 65, 66, 67, 68, 69, 70]])"
      ]
     },
     "execution_count": 44,
     "metadata": {},
     "output_type": "execute_result"
    }
   ],
   "source": [
    "# Add 10 to each element of A\n",
    "np.add(A,10)"
   ]
  },
  {
   "cell_type": "code",
   "execution_count": 45,
   "metadata": {},
   "outputs": [
    {
     "data": {
      "text/plain": [
       "array([[1.        , 1.41421356, 1.73205081, 2.        , 2.23606798,\n",
       "        2.44948974, 2.64575131, 2.82842712, 3.        , 3.16227766],\n",
       "       [3.31662479, 3.46410162, 3.60555128, 3.74165739, 3.87298335,\n",
       "        4.        , 4.12310563, 4.24264069, 4.35889894, 4.47213595],\n",
       "       [4.58257569, 4.69041576, 4.79583152, 4.89897949, 5.        ,\n",
       "        5.09901951, 5.19615242, 5.29150262, 5.38516481, 5.47722558],\n",
       "       [5.56776436, 5.65685425, 5.74456265, 5.83095189, 5.91607978,\n",
       "        6.        , 6.08276253, 6.164414  , 6.244998  , 6.32455532],\n",
       "       [6.40312424, 6.4807407 , 6.55743852, 6.63324958, 6.70820393,\n",
       "        6.78232998, 6.8556546 , 6.92820323, 7.        , 7.07106781],\n",
       "       [7.14142843, 7.21110255, 7.28010989, 7.34846923, 7.41619849,\n",
       "        7.48331477, 7.54983444, 7.61577311, 7.68114575, 7.74596669]])"
      ]
     },
     "execution_count": 45,
     "metadata": {},
     "output_type": "execute_result"
    }
   ],
   "source": [
    "# Calculate the square root of each element in A\n",
    "np.sqrt(A)"
   ]
  },
  {
   "cell_type": "code",
   "execution_count": 46,
   "metadata": {},
   "outputs": [
    {
     "data": {
      "text/plain": [
       "(10, 10)"
      ]
     },
     "execution_count": 46,
     "metadata": {},
     "output_type": "execute_result"
    }
   ],
   "source": [
    "# Above, we have created a 10x10 array M of normally distributed random values\n",
    "# with mean 0 and standard deviation 1\n",
    "M.shape"
   ]
  },
  {
   "cell_type": "code",
   "execution_count": 48,
   "metadata": {},
   "outputs": [
    {
     "name": "stdout",
     "output_type": "stream",
     "text": [
      "30.5\n",
      "17.318102282486574\n"
     ]
    }
   ],
   "source": [
    "# Print the mean, standard devietion of all numbers in M\n",
    "print(A.mean())\n",
    "print(A.std())"
   ]
  },
  {
   "cell_type": "code",
   "execution_count": 53,
   "metadata": {},
   "outputs": [
    {
     "name": "stdout",
     "output_type": "stream",
     "text": [
      "60\n",
      "45.25\n",
      "30.5\n",
      "15.75\n",
      "1\n"
     ]
    }
   ],
   "source": [
    "# Print the maximumn, 3rd quartile, median, 1st quartile, and minimum in M\n",
    "print(A.max())\n",
    "print(np.percentile(A,75))\n",
    "print(np.median(A))\n",
    "print(np.percentile(A,25))\n",
    "print(A.min())"
   ]
  }
 ],
 "metadata": {
  "kernelspec": {
   "display_name": "Python 3 (ipykernel)",
   "language": "python",
   "name": "python3"
  },
  "language_info": {
   "codemirror_mode": {
    "name": "ipython",
    "version": 3
   },
   "file_extension": ".py",
   "mimetype": "text/x-python",
   "name": "python",
   "nbconvert_exporter": "python",
   "pygments_lexer": "ipython3",
   "version": "3.11.5"
  }
 },
 "nbformat": 4,
 "nbformat_minor": 4
}
